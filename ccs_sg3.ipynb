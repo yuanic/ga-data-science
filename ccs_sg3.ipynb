{
 "cells": [
  {
   "cell_type": "code",
   "execution_count": 1,
   "metadata": {},
   "outputs": [
    {
     "name": "stderr",
     "output_type": "stream",
     "text": [
      "C:\\ProgramData\\Anaconda3\\lib\\site-packages\\statsmodels\\compat\\pandas.py:56: FutureWarning: The pandas.core.datetools module is deprecated and will be removed in a future version. Please use the pandas.tseries module instead.\n",
      "  from pandas.core import datetools\n"
     ]
    }
   ],
   "source": [
    "%matplotlib inline\n",
    "from __future__ import division\n",
    "import matplotlib.pyplot as plt\n",
    "import pandas as pd\n",
    "import statsmodels.api as sm\n",
    "import pylab as pl\n",
    "import numpy as np\n",
    "import seaborn as sns\n",
    "from sklearn.metrics import roc_curve, roc_auc_score, accuracy_score, auc, confusion_matrix, recall_score, precision_score\n"
   ]
  },
  {
   "cell_type": "markdown",
   "metadata": {},
   "source": [
    "## Predicting Gender based on 3rd Party Audience Segments that Users are identified with"
   ]
  },
  {
   "cell_type": "markdown",
   "metadata": {},
   "source": [
    "3rd Party data providers work with publishers to gather touch points by users online. Based on their online bahaviour, cookie IDs are assigned to audience segments. \n",
    "\n",
    "In the new advertising world of people based marketing, it is believed that these online touch points can help advertisers improve their targeting. Eg. Instead of targeting all users online with the same creatives, an advertiser can decide to target only Males Segment users that have shown interest in Sports if they believe that these users highly resonate with their brand.\n",
    "\n",
    "What segments however should the advertiser use to streamline their target? Are the audience segments able to clearly segment out high potential converters for an ecommerce client?.\n",
    "\n",
    "For a start, I will be using the audience segments to predict the gender of a cookie ID (instead of predicting if will be converters for an advertiser)."
   ]
  },
  {
   "cell_type": "markdown",
   "metadata": {},
   "source": [
    "### Read File"
   ]
  },
  {
   "cell_type": "code",
   "execution_count": 2,
   "metadata": {
    "collapsed": true
   },
   "outputs": [],
   "source": [
    "ccs_sg = pd.read_csv(\"C:\\\\Users\\\\YCHEN06\\\\Desktop\\\\data\\\\ccs_audiences.csv\", )"
   ]
  },
  {
   "cell_type": "code",
   "execution_count": 3,
   "metadata": {
    "collapsed": true
   },
   "outputs": [],
   "source": [
    "ccs_gender = pd.read_csv(\"C:\\\\Users\\\\YCHEN06\\\\Desktop\\\\data\\\\ccs_gender.csv\", )"
   ]
  },
  {
   "cell_type": "markdown",
   "metadata": {},
   "source": [
    "### Explore data"
   ]
  },
  {
   "cell_type": "code",
   "execution_count": 34,
   "metadata": {
    "scrolled": true
   },
   "outputs": [
    {
     "data": {
      "text/html": [
       "<div>\n",
       "<style>\n",
       "    .dataframe thead tr:only-child th {\n",
       "        text-align: right;\n",
       "    }\n",
       "\n",
       "    .dataframe thead th {\n",
       "        text-align: left;\n",
       "    }\n",
       "\n",
       "    .dataframe tbody tr th {\n",
       "        vertical-align: top;\n",
       "    }\n",
       "</style>\n",
       "<table border=\"1\" class=\"dataframe\">\n",
       "  <thead>\n",
       "    <tr style=\"text-align: right;\">\n",
       "      <th></th>\n",
       "      <th>mm_uuid</th>\n",
       "      <th>provider</th>\n",
       "      <th>segment id</th>\n",
       "      <th>full path</th>\n",
       "      <th>date</th>\n",
       "    </tr>\n",
       "  </thead>\n",
       "  <tbody>\n",
       "    <tr>\n",
       "      <th>17228</th>\n",
       "      <td>ff7756d5-73d8-4e00-a738-ccdfbed7e3be</td>\n",
       "      <td>ey</td>\n",
       "      <td>391</td>\n",
       "      <td>|Eyeota|Interest|Entertainment|Games and Toys</td>\n",
       "      <td>20/5/2017</td>\n",
       "    </tr>\n",
       "    <tr>\n",
       "      <th>17229</th>\n",
       "      <td>ff7756d5-73d8-4e00-a738-ccdfbed7e3be</td>\n",
       "      <td>ey</td>\n",
       "      <td>21949</td>\n",
       "      <td>|Eyeota|Interest|Entertainment|Music</td>\n",
       "      <td>20/5/2017</td>\n",
       "    </tr>\n",
       "    <tr>\n",
       "      <th>17230</th>\n",
       "      <td>ff7756d5-73d8-4e00-a738-ccdfbed7e3be</td>\n",
       "      <td>ey</td>\n",
       "      <td>459</td>\n",
       "      <td>|Eyeota|Interest|Sports|Football</td>\n",
       "      <td>20/5/2017</td>\n",
       "    </tr>\n",
       "    <tr>\n",
       "      <th>17231</th>\n",
       "      <td>ff7756d5-73d8-4e00-a738-ccdfbed7e3be</td>\n",
       "      <td>ey</td>\n",
       "      <td>21738</td>\n",
       "      <td>|Eyeota|Regional Taxonomies|Southeast Asia (SE...</td>\n",
       "      <td>20/5/2017</td>\n",
       "    </tr>\n",
       "    <tr>\n",
       "      <th>17232</th>\n",
       "      <td>ff7756d5-73d8-4e00-a738-ccdfbed7e3be</td>\n",
       "      <td>ey</td>\n",
       "      <td>21946</td>\n",
       "      <td>|Eyeota|Interest|Culture and Arts</td>\n",
       "      <td>20/5/2017</td>\n",
       "    </tr>\n",
       "    <tr>\n",
       "      <th>17233</th>\n",
       "      <td>ff7756d5-73d8-4e00-a738-ccdfbed7e3be</td>\n",
       "      <td>ey</td>\n",
       "      <td>17202</td>\n",
       "      <td>|Eyeota|Seasonal|Sport Events|Football Matches...</td>\n",
       "      <td>20/5/2017</td>\n",
       "    </tr>\n",
       "    <tr>\n",
       "      <th>17234</th>\n",
       "      <td>ff7756d5-73d8-4e00-a738-ccdfbed7e3be</td>\n",
       "      <td>ey</td>\n",
       "      <td>18151</td>\n",
       "      <td>|Eyeota|Branded Data|Global excluding US and E...</td>\n",
       "      <td>17/5/2017</td>\n",
       "    </tr>\n",
       "    <tr>\n",
       "      <th>17235</th>\n",
       "      <td>ff7756d5-73d8-4e00-a738-ccdfbed7e3be</td>\n",
       "      <td>ey</td>\n",
       "      <td>21912</td>\n",
       "      <td>|Eyeota|Branded Data|Global excluding US and E...</td>\n",
       "      <td>17/5/2017</td>\n",
       "    </tr>\n",
       "    <tr>\n",
       "      <th>17236</th>\n",
       "      <td>ff7756d5-73d8-4e00-a738-ccdfbed7e3be</td>\n",
       "      <td>ey</td>\n",
       "      <td>18456</td>\n",
       "      <td>|Eyeota|Branded Data|Global excluding US and E...</td>\n",
       "      <td>17/5/2017</td>\n",
       "    </tr>\n",
       "    <tr>\n",
       "      <th>17237</th>\n",
       "      <td>ff7756d5-73d8-4e00-a738-ccdfbed7e3be</td>\n",
       "      <td>ey</td>\n",
       "      <td>408</td>\n",
       "      <td>|Eyeota|Interest|Fashion and Beauty</td>\n",
       "      <td>17/5/2017</td>\n",
       "    </tr>\n",
       "    <tr>\n",
       "      <th>17238</th>\n",
       "      <td>ff7756d5-73d8-4e00-a738-ccdfbed7e3be</td>\n",
       "      <td>ey</td>\n",
       "      <td>8346</td>\n",
       "      <td>|Eyeota|Branded Data|Global excluding US and E...</td>\n",
       "      <td>17/5/2017</td>\n",
       "    </tr>\n",
       "    <tr>\n",
       "      <th>17239</th>\n",
       "      <td>ff7756d5-73d8-4e00-a738-ccdfbed7e3be</td>\n",
       "      <td>ey</td>\n",
       "      <td>21873</td>\n",
       "      <td>|Eyeota|Branded Data|Global excluding US and E...</td>\n",
       "      <td>17/5/2017</td>\n",
       "    </tr>\n",
       "    <tr>\n",
       "      <th>17240</th>\n",
       "      <td>ff7756d5-73d8-4e00-a738-ccdfbed7e3be</td>\n",
       "      <td>ey</td>\n",
       "      <td>18453</td>\n",
       "      <td>|Eyeota|Branded Data|Global excluding US and E...</td>\n",
       "      <td>17/5/2017</td>\n",
       "    </tr>\n",
       "    <tr>\n",
       "      <th>17241</th>\n",
       "      <td>ff7756d5-73d8-4e00-a738-ccdfbed7e3be</td>\n",
       "      <td>ey</td>\n",
       "      <td>909</td>\n",
       "      <td>|Eyeota|Regional Taxonomies|Southeast Asia (SE...</td>\n",
       "      <td>17/5/2017</td>\n",
       "    </tr>\n",
       "    <tr>\n",
       "      <th>17242</th>\n",
       "      <td>ff7756d5-73d8-4e00-a738-ccdfbed7e3be</td>\n",
       "      <td>ey</td>\n",
       "      <td>410</td>\n",
       "      <td>|Eyeota|Interest|Fashion and Beauty|Fashion</td>\n",
       "      <td>11/7/2017</td>\n",
       "    </tr>\n",
       "    <tr>\n",
       "      <th>17243</th>\n",
       "      <td>ff7756d5-73d8-4e00-a738-ccdfbed7e3be</td>\n",
       "      <td>ey</td>\n",
       "      <td>21731</td>\n",
       "      <td>|Eyeota|Regional Taxonomies|Southeast Asia (SE...</td>\n",
       "      <td>11/7/2017</td>\n",
       "    </tr>\n",
       "    <tr>\n",
       "      <th>17244</th>\n",
       "      <td>ff7756d5-73d8-4e00-a738-ccdfbed7e3be</td>\n",
       "      <td>ey</td>\n",
       "      <td>405</td>\n",
       "      <td>|Eyeota|Interest|Entertainment|News</td>\n",
       "      <td>11/7/2017</td>\n",
       "    </tr>\n",
       "    <tr>\n",
       "      <th>17245</th>\n",
       "      <td>ff835753-b574-4b00-906a-ebcbcb89752d</td>\n",
       "      <td>ey</td>\n",
       "      <td>21709</td>\n",
       "      <td>|Eyeota|Regional Taxonomies|Southeast Asia (SE...</td>\n",
       "      <td>11/6/2017</td>\n",
       "    </tr>\n",
       "    <tr>\n",
       "      <th>17246</th>\n",
       "      <td>ff835753-b574-4b00-906a-ebcbcb89752d</td>\n",
       "      <td>ey</td>\n",
       "      <td>78</td>\n",
       "      <td>|Eyeota|Demographic|Inferred Gender|Male</td>\n",
       "      <td>11/6/2017</td>\n",
       "    </tr>\n",
       "    <tr>\n",
       "      <th>17247</th>\n",
       "      <td>ff835753-b574-4b00-906a-ebcbcb89752d</td>\n",
       "      <td>ey</td>\n",
       "      <td>2317</td>\n",
       "      <td>|Eyeota|Demographic|Inferred Age|18+</td>\n",
       "      <td>11/6/2017</td>\n",
       "    </tr>\n",
       "    <tr>\n",
       "      <th>17248</th>\n",
       "      <td>ff835753-b574-4b00-906a-ebcbcb89752d</td>\n",
       "      <td>ey</td>\n",
       "      <td>864</td>\n",
       "      <td>|Eyeota|Demographic|Inferred Age|18-24</td>\n",
       "      <td>11/6/2017</td>\n",
       "    </tr>\n",
       "    <tr>\n",
       "      <th>17249</th>\n",
       "      <td>ff835753-b574-4b00-906a-ebcbcb89752d</td>\n",
       "      <td>ey</td>\n",
       "      <td>21709</td>\n",
       "      <td>|Eyeota|Regional Taxonomies|Southeast Asia (SE...</td>\n",
       "      <td>28/6/2017</td>\n",
       "    </tr>\n",
       "    <tr>\n",
       "      <th>17250</th>\n",
       "      <td>ff835753-b574-4b00-906a-ebcbcb89752d</td>\n",
       "      <td>ey</td>\n",
       "      <td>78</td>\n",
       "      <td>|Eyeota|Demographic|Inferred Gender|Male</td>\n",
       "      <td>28/6/2017</td>\n",
       "    </tr>\n",
       "    <tr>\n",
       "      <th>17251</th>\n",
       "      <td>ff835753-b574-4b00-906a-ebcbcb89752d</td>\n",
       "      <td>ey</td>\n",
       "      <td>2317</td>\n",
       "      <td>|Eyeota|Demographic|Inferred Age|18+</td>\n",
       "      <td>28/6/2017</td>\n",
       "    </tr>\n",
       "    <tr>\n",
       "      <th>17252</th>\n",
       "      <td>ff835753-b574-4b00-906a-ebcbcb89752d</td>\n",
       "      <td>ey</td>\n",
       "      <td>864</td>\n",
       "      <td>|Eyeota|Demographic|Inferred Age|18-24</td>\n",
       "      <td>28/6/2017</td>\n",
       "    </tr>\n",
       "  </tbody>\n",
       "</table>\n",
       "</div>"
      ],
      "text/plain": [
       "                                    mm_uuid provider  segment id  \\\n",
       "17228  ff7756d5-73d8-4e00-a738-ccdfbed7e3be       ey         391   \n",
       "17229  ff7756d5-73d8-4e00-a738-ccdfbed7e3be       ey       21949   \n",
       "17230  ff7756d5-73d8-4e00-a738-ccdfbed7e3be       ey         459   \n",
       "17231  ff7756d5-73d8-4e00-a738-ccdfbed7e3be       ey       21738   \n",
       "17232  ff7756d5-73d8-4e00-a738-ccdfbed7e3be       ey       21946   \n",
       "17233  ff7756d5-73d8-4e00-a738-ccdfbed7e3be       ey       17202   \n",
       "17234  ff7756d5-73d8-4e00-a738-ccdfbed7e3be       ey       18151   \n",
       "17235  ff7756d5-73d8-4e00-a738-ccdfbed7e3be       ey       21912   \n",
       "17236  ff7756d5-73d8-4e00-a738-ccdfbed7e3be       ey       18456   \n",
       "17237  ff7756d5-73d8-4e00-a738-ccdfbed7e3be       ey         408   \n",
       "17238  ff7756d5-73d8-4e00-a738-ccdfbed7e3be       ey        8346   \n",
       "17239  ff7756d5-73d8-4e00-a738-ccdfbed7e3be       ey       21873   \n",
       "17240  ff7756d5-73d8-4e00-a738-ccdfbed7e3be       ey       18453   \n",
       "17241  ff7756d5-73d8-4e00-a738-ccdfbed7e3be       ey         909   \n",
       "17242  ff7756d5-73d8-4e00-a738-ccdfbed7e3be       ey         410   \n",
       "17243  ff7756d5-73d8-4e00-a738-ccdfbed7e3be       ey       21731   \n",
       "17244  ff7756d5-73d8-4e00-a738-ccdfbed7e3be       ey         405   \n",
       "17245  ff835753-b574-4b00-906a-ebcbcb89752d       ey       21709   \n",
       "17246  ff835753-b574-4b00-906a-ebcbcb89752d       ey          78   \n",
       "17247  ff835753-b574-4b00-906a-ebcbcb89752d       ey        2317   \n",
       "17248  ff835753-b574-4b00-906a-ebcbcb89752d       ey         864   \n",
       "17249  ff835753-b574-4b00-906a-ebcbcb89752d       ey       21709   \n",
       "17250  ff835753-b574-4b00-906a-ebcbcb89752d       ey          78   \n",
       "17251  ff835753-b574-4b00-906a-ebcbcb89752d       ey        2317   \n",
       "17252  ff835753-b574-4b00-906a-ebcbcb89752d       ey         864   \n",
       "\n",
       "                                               full path       date  \n",
       "17228      |Eyeota|Interest|Entertainment|Games and Toys  20/5/2017  \n",
       "17229               |Eyeota|Interest|Entertainment|Music  20/5/2017  \n",
       "17230                   |Eyeota|Interest|Sports|Football  20/5/2017  \n",
       "17231  |Eyeota|Regional Taxonomies|Southeast Asia (SE...  20/5/2017  \n",
       "17232                  |Eyeota|Interest|Culture and Arts  20/5/2017  \n",
       "17233  |Eyeota|Seasonal|Sport Events|Football Matches...  20/5/2017  \n",
       "17234  |Eyeota|Branded Data|Global excluding US and E...  17/5/2017  \n",
       "17235  |Eyeota|Branded Data|Global excluding US and E...  17/5/2017  \n",
       "17236  |Eyeota|Branded Data|Global excluding US and E...  17/5/2017  \n",
       "17237                |Eyeota|Interest|Fashion and Beauty  17/5/2017  \n",
       "17238  |Eyeota|Branded Data|Global excluding US and E...  17/5/2017  \n",
       "17239  |Eyeota|Branded Data|Global excluding US and E...  17/5/2017  \n",
       "17240  |Eyeota|Branded Data|Global excluding US and E...  17/5/2017  \n",
       "17241  |Eyeota|Regional Taxonomies|Southeast Asia (SE...  17/5/2017  \n",
       "17242        |Eyeota|Interest|Fashion and Beauty|Fashion  11/7/2017  \n",
       "17243  |Eyeota|Regional Taxonomies|Southeast Asia (SE...  11/7/2017  \n",
       "17244                |Eyeota|Interest|Entertainment|News  11/7/2017  \n",
       "17245  |Eyeota|Regional Taxonomies|Southeast Asia (SE...  11/6/2017  \n",
       "17246           |Eyeota|Demographic|Inferred Gender|Male  11/6/2017  \n",
       "17247               |Eyeota|Demographic|Inferred Age|18+  11/6/2017  \n",
       "17248             |Eyeota|Demographic|Inferred Age|18-24  11/6/2017  \n",
       "17249  |Eyeota|Regional Taxonomies|Southeast Asia (SE...  28/6/2017  \n",
       "17250           |Eyeota|Demographic|Inferred Gender|Male  28/6/2017  \n",
       "17251               |Eyeota|Demographic|Inferred Age|18+  28/6/2017  \n",
       "17252             |Eyeota|Demographic|Inferred Age|18-24  28/6/2017  "
      ]
     },
     "execution_count": 34,
     "metadata": {},
     "output_type": "execute_result"
    }
   ],
   "source": [
    "ccs_sg.tail(25)"
   ]
  },
  {
   "cell_type": "markdown",
   "metadata": {},
   "source": [
    "Variable | Description | Type of Variable\n",
    "---| ---| ---\n",
    "mm-uuid | distinct online user ID (by cookie ID)  | categorical\n",
    "provider | source of data | categorical\n",
    "segment id | unique identifier for full path| categorical\n",
    "full path | audience segment that user is identified in by provider | descriptive\n",
    "date | daatestamp of when user was added to the segment | date"
   ]
  },
  {
   "cell_type": "code",
   "execution_count": 35,
   "metadata": {},
   "outputs": [
    {
     "data": {
      "text/plain": [
       "mm_uuid       17253\n",
       "provider      17253\n",
       "segment id    17253\n",
       "full path     17253\n",
       "date          17253\n",
       "dtype: int64"
      ]
     },
     "execution_count": 35,
     "metadata": {},
     "output_type": "execute_result"
    }
   ],
   "source": [
    "ccs_sg.count()"
   ]
  },
  {
   "cell_type": "code",
   "execution_count": 36,
   "metadata": {
    "scrolled": true
   },
   "outputs": [
    {
     "data": {
      "text/html": [
       "<div>\n",
       "<style>\n",
       "    .dataframe thead tr:only-child th {\n",
       "        text-align: right;\n",
       "    }\n",
       "\n",
       "    .dataframe thead th {\n",
       "        text-align: left;\n",
       "    }\n",
       "\n",
       "    .dataframe tbody tr th {\n",
       "        vertical-align: top;\n",
       "    }\n",
       "</style>\n",
       "<table border=\"1\" class=\"dataframe\">\n",
       "  <thead>\n",
       "    <tr style=\"text-align: right;\">\n",
       "      <th></th>\n",
       "      <th>aac_uuid</th>\n",
       "      <th>ccs_uid</th>\n",
       "      <th>Gender</th>\n",
       "    </tr>\n",
       "  </thead>\n",
       "  <tbody>\n",
       "    <tr>\n",
       "      <th>0</th>\n",
       "      <td>e09d5775-1aa2-4f00-af1b-3b0383b6a6e7</td>\n",
       "      <td>SGP16200003077</td>\n",
       "      <td>Female</td>\n",
       "    </tr>\n",
       "    <tr>\n",
       "      <th>1</th>\n",
       "      <td>bfa45769-3bcd-4000-96c8-e32efea73c5c</td>\n",
       "      <td>SGP16200003092</td>\n",
       "      <td>Male</td>\n",
       "    </tr>\n",
       "    <tr>\n",
       "      <th>2</th>\n",
       "      <td>ef5b573b-e9b6-4400-a9ab-ec12a0da6d25</td>\n",
       "      <td>SGP16200003071</td>\n",
       "      <td>Male</td>\n",
       "    </tr>\n",
       "    <tr>\n",
       "      <th>3</th>\n",
       "      <td>e15c55b4-98f3-4600-866d-496c962744bb</td>\n",
       "      <td>SGP16200003046</td>\n",
       "      <td>Female</td>\n",
       "    </tr>\n",
       "    <tr>\n",
       "      <th>4</th>\n",
       "      <td>7a175753-c3b9-4d00-a599-059eb41a860f</td>\n",
       "      <td>SGP16200003065</td>\n",
       "      <td>Female</td>\n",
       "    </tr>\n",
       "  </tbody>\n",
       "</table>\n",
       "</div>"
      ],
      "text/plain": [
       "                               aac_uuid         ccs_uid  Gender\n",
       "0  e09d5775-1aa2-4f00-af1b-3b0383b6a6e7  SGP16200003077  Female\n",
       "1  bfa45769-3bcd-4000-96c8-e32efea73c5c  SGP16200003092    Male\n",
       "2  ef5b573b-e9b6-4400-a9ab-ec12a0da6d25  SGP16200003071    Male\n",
       "3  e15c55b4-98f3-4600-866d-496c962744bb  SGP16200003046  Female\n",
       "4  7a175753-c3b9-4d00-a599-059eb41a860f  SGP16200003065  Female"
      ]
     },
     "execution_count": 36,
     "metadata": {},
     "output_type": "execute_result"
    }
   ],
   "source": [
    "ccs_gender.head()"
   ]
  },
  {
   "cell_type": "markdown",
   "metadata": {},
   "source": [
    "Variable | Description | Type of Variable\n",
    "---| ---| ---\n",
    "aac_uuid | equivalue of mm_uuid  | categorical\n",
    "ccs_uid | distinct offline user id | categorical\n",
    "Gender | Female of Male (Declared Data)| categorical"
   ]
  },
  {
   "cell_type": "code",
   "execution_count": 37,
   "metadata": {},
   "outputs": [
    {
     "data": {
      "text/plain": [
       "aac_uuid    1613\n",
       "ccs_uid     1613\n",
       "Gender      1613\n",
       "dtype: int64"
      ]
     },
     "execution_count": 37,
     "metadata": {},
     "output_type": "execute_result"
    }
   ],
   "source": [
    "ccs_gender.count()"
   ]
  },
  {
   "cell_type": "markdown",
   "metadata": {},
   "source": [
    "### Count of Attributes by Users"
   ]
  },
  {
   "cell_type": "markdown",
   "metadata": {},
   "source": [
    "#### All"
   ]
  },
  {
   "cell_type": "code",
   "execution_count": 38,
   "metadata": {
    "collapsed": true
   },
   "outputs": [],
   "source": [
    "mm_uuid_cnt = ccs_sg.mm_uuid.value_counts()"
   ]
  },
  {
   "cell_type": "code",
   "execution_count": 39,
   "metadata": {},
   "outputs": [
    {
     "data": {
      "text/plain": [
       "a97d5693-216d-4500-b6de-568a2e87dfd9    649\n",
       "b55a569f-9000-4d00-a977-98afb2d65b9f    603\n",
       "9a60557c-f1a2-4b00-b39a-2842a4df66b2    513\n",
       "033f545c-6429-4000-a828-47695b9e2c52    497\n",
       "80be54c4-59f9-4900-82de-1f220b31740d    430\n",
       "Name: mm_uuid, dtype: int64"
      ]
     },
     "execution_count": 39,
     "metadata": {},
     "output_type": "execute_result"
    }
   ],
   "source": [
    "mm_uuid_cnt.head()"
   ]
  },
  {
   "cell_type": "code",
   "execution_count": 40,
   "metadata": {},
   "outputs": [
    {
     "data": {
      "text/plain": [
       "148"
      ]
     },
     "execution_count": 40,
     "metadata": {},
     "output_type": "execute_result"
    }
   ],
   "source": [
    "mm_uuid_cnt.count()"
   ]
  },
  {
   "cell_type": "markdown",
   "metadata": {},
   "source": [
    "## 148 ccs users were found with at least 1 audience segment attribute."
   ]
  },
  {
   "cell_type": "markdown",
   "metadata": {},
   "source": [
    "#### Dedup Repeated Segments"
   ]
  },
  {
   "cell_type": "markdown",
   "metadata": {},
   "source": [
    "Segments for each mm_uuid is associated with a datestamp. Some users may get assigned to the same segment again across time. To count each segment once only for each user, the data set needs to be deduplicated."
   ]
  },
  {
   "cell_type": "code",
   "execution_count": 41,
   "metadata": {
    "collapsed": true
   },
   "outputs": [],
   "source": [
    "unique_segments_mmuuid = ccs_sg.drop_duplicates(['mm_uuid','segment id','full path'])"
   ]
  },
  {
   "cell_type": "code",
   "execution_count": 42,
   "metadata": {
    "collapsed": true
   },
   "outputs": [],
   "source": [
    "unique_segments_mmuuid_summarize = unique_segments_mmuuid['mm_uuid'].value_counts()"
   ]
  },
  {
   "cell_type": "code",
   "execution_count": 43,
   "metadata": {},
   "outputs": [
    {
     "data": {
      "text/plain": [
       "<matplotlib.text.Text at 0x1ef8b3b1b38>"
      ]
     },
     "execution_count": 43,
     "metadata": {},
     "output_type": "execute_result"
    },
    {
     "data": {
      "image/png": "[encoded data removed]",
      "text/plain": [
       "<matplotlib.figure.Figure at 0x1ef8a09b0f0>"
      ]
     },
     "metadata": {},
     "output_type": "display_data"
    },
    {
     "data": {
      "image/png": "[encoded data removed]",
      "text/plain": [
       "<matplotlib.figure.Figure at 0x1ef8b364860>"
      ]
     },
     "metadata": {},
     "output_type": "display_data"
    }
   ],
   "source": [
    "binBoundaries = np.linspace(0,450,100)\n",
    "\n",
    "fig = plt.figure()\n",
    "plt.title('Distribution of How many Segments each Survey User is Associated with', fontsize=16, fontweight='bold')\n",
    "unique_segments_mmuuid_summarize.hist(figsize=(10,4))\n",
    "plt.xlabel('Cnt of Distinct Segments')\n",
    "plt.ylabel('No. of mm_uuid')\n",
    "\n",
    "fig = plt.figure()\n",
    "unique_segments_mmuuid_summarize.hist(figsize=(10,4),bins=binBoundaries)\n",
    "plt.xlabel('Cnt of Distinct Segments')\n",
    "plt.ylabel('No. of mm_uuid')"
   ]
  },
  {
   "cell_type": "markdown",
   "metadata": {},
   "source": [
    "### Most Popular Segments"
   ]
  },
  {
   "cell_type": "markdown",
   "metadata": {},
   "source": [
    "#### All "
   ]
  },
  {
   "cell_type": "code",
   "execution_count": 44,
   "metadata": {
    "collapsed": true,
    "scrolled": true
   },
   "outputs": [],
   "source": [
    "segment_cnt = ccs_sg['full path'].value_counts()"
   ]
  },
  {
   "cell_type": "code",
   "execution_count": 45,
   "metadata": {},
   "outputs": [
    {
     "data": {
      "text/plain": [
       "899"
      ]
     },
     "execution_count": 45,
     "metadata": {},
     "output_type": "execute_result"
    }
   ],
   "source": [
    "segment_cnt.count()"
   ]
  },
  {
   "cell_type": "markdown",
   "metadata": {},
   "source": [
    "#### Dedup Repeated Segments"
   ]
  },
  {
   "cell_type": "markdown",
   "metadata": {},
   "source": [
    "We deduplicated repeated segments mm_uuids have a date stamp association. This means that day after day, the users is getting placed back in the same segment again"
   ]
  },
  {
   "cell_type": "code",
   "execution_count": 46,
   "metadata": {
    "collapsed": true,
    "scrolled": true
   },
   "outputs": [],
   "source": [
    "unique_segments_mmuuid_summarizesegment = unique_segments_mmuuid['full path'].value_counts()"
   ]
  },
  {
   "cell_type": "code",
   "execution_count": 48,
   "metadata": {},
   "outputs": [
    {
     "data": {
      "text/plain": [
       "<matplotlib.text.Text at 0x1ef8b330f98>"
      ]
     },
     "execution_count": 48,
     "metadata": {},
     "output_type": "execute_result"
    },
    {
     "data": {
      "image/png": "[encoded data removed]",
      "text/plain": [
       "<matplotlib.figure.Figure at 0x1ef89f83160>"
      ]
     },
     "metadata": {},
     "output_type": "display_data"
    },
    {
     "data": {
      "image/png": "[encoded data removed]",
      "text/plain": [
       "<matplotlib.figure.Figure at 0x1ef8b5b5a20>"
      ]
     },
     "metadata": {},
     "output_type": "display_data"
    }
   ],
   "source": [
    "binBoundaries = np.linspace(0,120,24)\n",
    "\n",
    "fig = plt.figure()\n",
    "unique_segments_mmuuid_summarizesegment.hist(figsize=(10,4))\n",
    "plt.title('Distribution of How Popular Each Segment Is?', fontsize=16, fontweight='bold')\n",
    "plt.xlabel('Cnt of mm_uuid')\n",
    "plt.ylabel('No. of Segments')\n",
    "\n",
    "fig = plt.figure()\n",
    "plt.title('Distribution of How Popular Each Segment Is?', fontsize=16, fontweight='bold')\n",
    "unique_segments_mmuuid_summarizesegment.hist(figsize=(10,4),bins=binBoundaries)\n",
    "plt.xlabel('Cnt of mm_uuid')\n",
    "plt.ylabel('No. of Segments')"
   ]
  },
  {
   "cell_type": "code",
   "execution_count": 49,
   "metadata": {},
   "outputs": [
    {
     "data": {
      "text/plain": [
       "|Eyeota|Business or B2B                                                              108\n",
       "|Eyeota|Branded Data|Global Bombora|B2B|Professional Groups|Business Professional    102\n",
       "|Eyeota|Interest|Tech Enthusiasts                                                    101\n",
       "|Eyeota|Business or B2B|Professions|Business Professionals                           100\n",
       "|Eyeota|Regional Taxonomies|Southeast Asia (SEA)|Interest|Tech Enthusiasts            97\n",
       "Name: full path, dtype: int64"
      ]
     },
     "execution_count": 49,
     "metadata": {},
     "output_type": "execute_result"
    }
   ],
   "source": [
    "unique_segments_mmuuid_summarizesegment.head()"
   ]
  },
  {
   "cell_type": "markdown",
   "metadata": {},
   "source": [
    "#### Finding Commonly repeated Segments"
   ]
  },
  {
   "cell_type": "code",
   "execution_count": 50,
   "metadata": {
    "collapsed": true,
    "scrolled": true
   },
   "outputs": [],
   "source": [
    "segment_mm_uuid_cnt = ccs_sg[['mm_uuid','full path']].groupby(['full path']).nunique()"
   ]
  },
  {
   "cell_type": "code",
   "execution_count": 51,
   "metadata": {
    "collapsed": true
   },
   "outputs": [],
   "source": [
    "ccs_sg['combined'] = ccs_sg.mm_uuid + ccs_sg.date"
   ]
  },
  {
   "cell_type": "code",
   "execution_count": 52,
   "metadata": {
    "collapsed": true
   },
   "outputs": [],
   "source": [
    "segment_combined_cnt = ccs_sg[['combined','full path']].groupby(['full path']).nunique()"
   ]
  },
  {
   "cell_type": "code",
   "execution_count": 53,
   "metadata": {
    "collapsed": true
   },
   "outputs": [],
   "source": [
    "segment = pd.concat([segment_mm_uuid_cnt,segment_combined_cnt],axis=1,join='inner')"
   ]
  },
  {
   "cell_type": "code",
   "execution_count": 54,
   "metadata": {
    "collapsed": true
   },
   "outputs": [],
   "source": [
    "segment['freq']=segment['combined']/segment['mm_uuid']"
   ]
  },
  {
   "cell_type": "code",
   "execution_count": 55,
   "metadata": {},
   "outputs": [
    {
     "data": {
      "text/html": [
       "<div>\n",
       "<style>\n",
       "    .dataframe thead tr:only-child th {\n",
       "        text-align: right;\n",
       "    }\n",
       "\n",
       "    .dataframe thead th {\n",
       "        text-align: left;\n",
       "    }\n",
       "\n",
       "    .dataframe tbody tr th {\n",
       "        vertical-align: top;\n",
       "    }\n",
       "</style>\n",
       "<table border=\"1\" class=\"dataframe\">\n",
       "  <thead>\n",
       "    <tr style=\"text-align: right;\">\n",
       "      <th></th>\n",
       "      <th>mm_uuid</th>\n",
       "      <th>full path</th>\n",
       "      <th>combined</th>\n",
       "      <th>full path</th>\n",
       "      <th>freq</th>\n",
       "    </tr>\n",
       "    <tr>\n",
       "      <th>full path</th>\n",
       "      <th></th>\n",
       "      <th></th>\n",
       "      <th></th>\n",
       "      <th></th>\n",
       "      <th></th>\n",
       "    </tr>\n",
       "  </thead>\n",
       "  <tbody>\n",
       "    <tr>\n",
       "      <th>|Eyeota|Regional Taxonomies|Southeast Asia (SEA)|Interest|Pets</th>\n",
       "      <td>15</td>\n",
       "      <td>1</td>\n",
       "      <td>37</td>\n",
       "      <td>1</td>\n",
       "      <td>2.466667</td>\n",
       "    </tr>\n",
       "    <tr>\n",
       "      <th>|Eyeota|Intent|Financial Intent|Personal Finance</th>\n",
       "      <td>17</td>\n",
       "      <td>1</td>\n",
       "      <td>40</td>\n",
       "      <td>1</td>\n",
       "      <td>2.352941</td>\n",
       "    </tr>\n",
       "    <tr>\n",
       "      <th>|Eyeota|Demographic|Inferred Age|21-24</th>\n",
       "      <td>17</td>\n",
       "      <td>1</td>\n",
       "      <td>38</td>\n",
       "      <td>1</td>\n",
       "      <td>2.235294</td>\n",
       "    </tr>\n",
       "    <tr>\n",
       "      <th>|Eyeota|Demographic|Lifestyle|Household Decision Makers</th>\n",
       "      <td>21</td>\n",
       "      <td>1</td>\n",
       "      <td>44</td>\n",
       "      <td>1</td>\n",
       "      <td>2.095238</td>\n",
       "    </tr>\n",
       "    <tr>\n",
       "      <th>|Eyeota|Regional Taxonomies|Southeast Asia (SEA)|Interest|Fashion and Beauty</th>\n",
       "      <td>11</td>\n",
       "      <td>1</td>\n",
       "      <td>23</td>\n",
       "      <td>1</td>\n",
       "      <td>2.090909</td>\n",
       "    </tr>\n",
       "    <tr>\n",
       "      <th>|Eyeota|Interest|Parenting</th>\n",
       "      <td>11</td>\n",
       "      <td>1</td>\n",
       "      <td>23</td>\n",
       "      <td>1</td>\n",
       "      <td>2.090909</td>\n",
       "    </tr>\n",
       "    <tr>\n",
       "      <th>|Eyeota|Branded Data|Global Bombora|B2C|Lifestyle|Hobbies and Interests|Gardening</th>\n",
       "      <td>11</td>\n",
       "      <td>1</td>\n",
       "      <td>23</td>\n",
       "      <td>1</td>\n",
       "      <td>2.090909</td>\n",
       "    </tr>\n",
       "    <tr>\n",
       "      <th>|Eyeota|Branded Data|Global Bombora|B2B|B2B Predictive Signals|Human Resources|Performance</th>\n",
       "      <td>12</td>\n",
       "      <td>1</td>\n",
       "      <td>25</td>\n",
       "      <td>1</td>\n",
       "      <td>2.083333</td>\n",
       "    </tr>\n",
       "    <tr>\n",
       "      <th>|Eyeota|Demographic|Inferred Age|25-34</th>\n",
       "      <td>30</td>\n",
       "      <td>1</td>\n",
       "      <td>62</td>\n",
       "      <td>1</td>\n",
       "      <td>2.066667</td>\n",
       "    </tr>\n",
       "    <tr>\n",
       "      <th>|Eyeota|Demographic|Inferred Age|18+</th>\n",
       "      <td>45</td>\n",
       "      <td>1</td>\n",
       "      <td>92</td>\n",
       "      <td>1</td>\n",
       "      <td>2.044444</td>\n",
       "    </tr>\n",
       "  </tbody>\n",
       "</table>\n",
       "</div>"
      ],
      "text/plain": [
       "                                                    mm_uuid  full path  \\\n",
       "full path                                                                \n",
       "|Eyeota|Regional Taxonomies|Southeast Asia (SEA...       15          1   \n",
       "|Eyeota|Intent|Financial Intent|Personal Finance         17          1   \n",
       "|Eyeota|Demographic|Inferred Age|21-24                   17          1   \n",
       "|Eyeota|Demographic|Lifestyle|Household Decisio...       21          1   \n",
       "|Eyeota|Regional Taxonomies|Southeast Asia (SEA...       11          1   \n",
       "|Eyeota|Interest|Parenting                               11          1   \n",
       "|Eyeota|Branded Data|Global Bombora|B2C|Lifesty...       11          1   \n",
       "|Eyeota|Branded Data|Global Bombora|B2B|B2B Pre...       12          1   \n",
       "|Eyeota|Demographic|Inferred Age|25-34                   30          1   \n",
       "|Eyeota|Demographic|Inferred Age|18+                     45          1   \n",
       "\n",
       "                                                    combined  full path  \\\n",
       "full path                                                                 \n",
       "|Eyeota|Regional Taxonomies|Southeast Asia (SEA...        37          1   \n",
       "|Eyeota|Intent|Financial Intent|Personal Finance          40          1   \n",
       "|Eyeota|Demographic|Inferred Age|21-24                    38          1   \n",
       "|Eyeota|Demographic|Lifestyle|Household Decisio...        44          1   \n",
       "|Eyeota|Regional Taxonomies|Southeast Asia (SEA...        23          1   \n",
       "|Eyeota|Interest|Parenting                                23          1   \n",
       "|Eyeota|Branded Data|Global Bombora|B2C|Lifesty...        23          1   \n",
       "|Eyeota|Branded Data|Global Bombora|B2B|B2B Pre...        25          1   \n",
       "|Eyeota|Demographic|Inferred Age|25-34                    62          1   \n",
       "|Eyeota|Demographic|Inferred Age|18+                      92          1   \n",
       "\n",
       "                                                        freq  \n",
       "full path                                                     \n",
       "|Eyeota|Regional Taxonomies|Southeast Asia (SEA...  2.466667  \n",
       "|Eyeota|Intent|Financial Intent|Personal Finance    2.352941  \n",
       "|Eyeota|Demographic|Inferred Age|21-24              2.235294  \n",
       "|Eyeota|Demographic|Lifestyle|Household Decisio...  2.095238  \n",
       "|Eyeota|Regional Taxonomies|Southeast Asia (SEA...  2.090909  \n",
       "|Eyeota|Interest|Parenting                          2.090909  \n",
       "|Eyeota|Branded Data|Global Bombora|B2C|Lifesty...  2.090909  \n",
       "|Eyeota|Branded Data|Global Bombora|B2B|B2B Pre...  2.083333  \n",
       "|Eyeota|Demographic|Inferred Age|25-34              2.066667  \n",
       "|Eyeota|Demographic|Inferred Age|18+                2.044444  "
      ]
     },
     "execution_count": 55,
     "metadata": {},
     "output_type": "execute_result"
    }
   ],
   "source": [
    "segment[segment['mm_uuid']>10].sort_values(['freq'],ascending=False).head(10)"
   ]
  },
  {
   "cell_type": "markdown",
   "metadata": {},
   "source": [
    "### Creating Dummy Variables for Audence Segment"
   ]
  },
  {
   "cell_type": "code",
   "execution_count": 56,
   "metadata": {
    "collapsed": true
   },
   "outputs": [],
   "source": [
    "create_dummies_data = ccs_sg[['mm_uuid','full path']].drop_duplicates(['mm_uuid','full path'])"
   ]
  },
  {
   "cell_type": "code",
   "execution_count": 57,
   "metadata": {},
   "outputs": [
    {
     "data": {
      "text/plain": [
       "mm_uuid      10273\n",
       "full path    10273\n",
       "dtype: int64"
      ]
     },
     "execution_count": 57,
     "metadata": {},
     "output_type": "execute_result"
    }
   ],
   "source": [
    "create_dummies_data.count()"
   ]
  },
  {
   "cell_type": "code",
   "execution_count": 58,
   "metadata": {},
   "outputs": [
    {
     "data": {
      "text/html": [
       "<div>\n",
       "<style>\n",
       "    .dataframe thead tr:only-child th {\n",
       "        text-align: right;\n",
       "    }\n",
       "\n",
       "    .dataframe thead th {\n",
       "        text-align: left;\n",
       "    }\n",
       "\n",
       "    .dataframe tbody tr th {\n",
       "        vertical-align: top;\n",
       "    }\n",
       "</style>\n",
       "<table border=\"1\" class=\"dataframe\">\n",
       "  <thead>\n",
       "    <tr style=\"text-align: right;\">\n",
       "      <th></th>\n",
       "      <th>mm_uuid</th>\n",
       "      <th>full path</th>\n",
       "    </tr>\n",
       "  </thead>\n",
       "  <tbody>\n",
       "    <tr>\n",
       "      <th>0</th>\n",
       "      <td>033f545c-6429-4000-a828-47695b9e2c52</td>\n",
       "      <td>|Eyeota|Branded Data|Global excluding US and E...</td>\n",
       "    </tr>\n",
       "    <tr>\n",
       "      <th>1</th>\n",
       "      <td>033f545c-6429-4000-a828-47695b9e2c52</td>\n",
       "      <td>|Eyeota|Branded Data|Global excluding US and E...</td>\n",
       "    </tr>\n",
       "    <tr>\n",
       "      <th>2</th>\n",
       "      <td>033f545c-6429-4000-a828-47695b9e2c52</td>\n",
       "      <td>|Eyeota|Branded Data|Global excluding US and E...</td>\n",
       "    </tr>\n",
       "    <tr>\n",
       "      <th>3</th>\n",
       "      <td>033f545c-6429-4000-a828-47695b9e2c52</td>\n",
       "      <td>|Eyeota|Interest|Entertainment|News</td>\n",
       "    </tr>\n",
       "    <tr>\n",
       "      <th>4</th>\n",
       "      <td>033f545c-6429-4000-a828-47695b9e2c52</td>\n",
       "      <td>|Eyeota|Branded Data|Global excluding US and E...</td>\n",
       "    </tr>\n",
       "  </tbody>\n",
       "</table>\n",
       "</div>"
      ],
      "text/plain": [
       "                                mm_uuid  \\\n",
       "0  033f545c-6429-4000-a828-47695b9e2c52   \n",
       "1  033f545c-6429-4000-a828-47695b9e2c52   \n",
       "2  033f545c-6429-4000-a828-47695b9e2c52   \n",
       "3  033f545c-6429-4000-a828-47695b9e2c52   \n",
       "4  033f545c-6429-4000-a828-47695b9e2c52   \n",
       "\n",
       "                                           full path  \n",
       "0  |Eyeota|Branded Data|Global excluding US and E...  \n",
       "1  |Eyeota|Branded Data|Global excluding US and E...  \n",
       "2  |Eyeota|Branded Data|Global excluding US and E...  \n",
       "3                |Eyeota|Interest|Entertainment|News  \n",
       "4  |Eyeota|Branded Data|Global excluding US and E...  "
      ]
     },
     "execution_count": 58,
     "metadata": {},
     "output_type": "execute_result"
    }
   ],
   "source": [
    "create_dummies_data.head()"
   ]
  },
  {
   "cell_type": "code",
   "execution_count": 59,
   "metadata": {
    "collapsed": true
   },
   "outputs": [],
   "source": [
    "dummies = pd.get_dummies(create_dummies_data['full path']).join(create_dummies_data['mm_uuid'])"
   ]
  },
  {
   "cell_type": "code",
   "execution_count": 60,
   "metadata": {
    "collapsed": true
   },
   "outputs": [],
   "source": [
    "cols = dummies.columns[1:]"
   ]
  },
  {
   "cell_type": "code",
   "execution_count": 61,
   "metadata": {
    "collapsed": true
   },
   "outputs": [],
   "source": [
    "dummies = dummies.groupby(['mm_uuid'])[cols].sum()"
   ]
  },
  {
   "cell_type": "code",
   "execution_count": 62,
   "metadata": {
    "collapsed": true,
    "scrolled": true
   },
   "outputs": [],
   "source": [
    "dummies['segment_cnt']=dummies.sum(axis=1)"
   ]
  },
  {
   "cell_type": "code",
   "execution_count": 63,
   "metadata": {},
   "outputs": [
    {
     "data": {
      "text/html": [
       "<div>\n",
       "<style>\n",
       "    .dataframe thead tr:only-child th {\n",
       "        text-align: right;\n",
       "    }\n",
       "\n",
       "    .dataframe thead th {\n",
       "        text-align: left;\n",
       "    }\n",
       "\n",
       "    .dataframe tbody tr th {\n",
       "        vertical-align: top;\n",
       "    }\n",
       "</style>\n",
       "<table border=\"1\" class=\"dataframe\">\n",
       "  <thead>\n",
       "    <tr style=\"text-align: right;\">\n",
       "      <th></th>\n",
       "      <th>|Eyeota|Branded Data|EMEA|EMEA ShareThis|Arts and Entertainment|Humor</th>\n",
       "      <th>|Eyeota|Branded Data|EMEA|EMEA ShareThis|Computers and Electronics</th>\n",
       "      <th>|Eyeota|Branded Data|EMEA|EMEA ShareThis|Computers and Electronics|Software</th>\n",
       "      <th>|Eyeota|Branded Data|EMEA|EMEA ShareThis|Computers and Electronics|Software|Open Source</th>\n",
       "      <th>|Eyeota|Branded Data|EMEA|EMEA ShareThis|Food and Drink|Food|Meat and Seafood</th>\n",
       "      <th>|Eyeota|Branded Data|EMEA|EMEA ShareThis|Home and Garden</th>\n",
       "      <th>|Eyeota|Branded Data|EMEA|EMEA ShareThis|Home and Garden|Bed and Bath</th>\n",
       "      <th>|Eyeota|Branded Data|EMEA|EMEA ShareThis|Home and Garden|Bed and Bath|Bathroom</th>\n",
       "      <th>|Eyeota|Branded Data|EMEA|EMEA ShareThis|Internet and Telecom</th>\n",
       "      <th>|Eyeota|Branded Data|EMEA|EMEA ShareThis|Internet and Telecom|Service Providers</th>\n",
       "      <th>...</th>\n",
       "      <th>|Eyeota|Seasonal|Sport Events|Football Matches|Champions League Fans</th>\n",
       "      <th>|Eyeota|Seasonal|Sport Events|Football Matches|EURO 2016 France</th>\n",
       "      <th>|Eyeota|Seasonal|Sport Events|Football Matches|EURO 2016 France|Qualifiers</th>\n",
       "      <th>|Eyeota|Seasonal|Sport Events|Football Matches|FIFA World Cup 2018</th>\n",
       "      <th>|Eyeota|Seasonal|Sport Events|NBA</th>\n",
       "      <th>|Eyeota|Seasonal|Sport Events|Premier League Fans</th>\n",
       "      <th>|Eyeota|Seasonal|Sport Events|Rugby World Cup Fans</th>\n",
       "      <th>|Eyeota|Seasonal|Sport Events|Summer Olympics - Rio 2016</th>\n",
       "      <th>|Eyeota|Seasonal|Sport Events|Winter Olympics - Pyeongchang 2018</th>\n",
       "      <th>segment_cnt</th>\n",
       "    </tr>\n",
       "    <tr>\n",
       "      <th>mm_uuid</th>\n",
       "      <th></th>\n",
       "      <th></th>\n",
       "      <th></th>\n",
       "      <th></th>\n",
       "      <th></th>\n",
       "      <th></th>\n",
       "      <th></th>\n",
       "      <th></th>\n",
       "      <th></th>\n",
       "      <th></th>\n",
       "      <th></th>\n",
       "      <th></th>\n",
       "      <th></th>\n",
       "      <th></th>\n",
       "      <th></th>\n",
       "      <th></th>\n",
       "      <th></th>\n",
       "      <th></th>\n",
       "      <th></th>\n",
       "      <th></th>\n",
       "      <th></th>\n",
       "    </tr>\n",
       "  </thead>\n",
       "  <tbody>\n",
       "    <tr>\n",
       "      <th>033f545c-6429-4000-a828-47695b9e2c52</th>\n",
       "      <td>0</td>\n",
       "      <td>0</td>\n",
       "      <td>0</td>\n",
       "      <td>0</td>\n",
       "      <td>0</td>\n",
       "      <td>0</td>\n",
       "      <td>0</td>\n",
       "      <td>0</td>\n",
       "      <td>0</td>\n",
       "      <td>0</td>\n",
       "      <td>...</td>\n",
       "      <td>0</td>\n",
       "      <td>0</td>\n",
       "      <td>0</td>\n",
       "      <td>0</td>\n",
       "      <td>0</td>\n",
       "      <td>0</td>\n",
       "      <td>0</td>\n",
       "      <td>0</td>\n",
       "      <td>0</td>\n",
       "      <td>198</td>\n",
       "    </tr>\n",
       "    <tr>\n",
       "      <th>035c551c-097e-4900-80c9-f9df6a50452c</th>\n",
       "      <td>0</td>\n",
       "      <td>0</td>\n",
       "      <td>0</td>\n",
       "      <td>0</td>\n",
       "      <td>0</td>\n",
       "      <td>0</td>\n",
       "      <td>0</td>\n",
       "      <td>0</td>\n",
       "      <td>0</td>\n",
       "      <td>0</td>\n",
       "      <td>...</td>\n",
       "      <td>0</td>\n",
       "      <td>0</td>\n",
       "      <td>0</td>\n",
       "      <td>0</td>\n",
       "      <td>0</td>\n",
       "      <td>0</td>\n",
       "      <td>0</td>\n",
       "      <td>0</td>\n",
       "      <td>0</td>\n",
       "      <td>63</td>\n",
       "    </tr>\n",
       "    <tr>\n",
       "      <th>04f155da-cfb4-4000-9cb9-f22a71107b06</th>\n",
       "      <td>0</td>\n",
       "      <td>0</td>\n",
       "      <td>0</td>\n",
       "      <td>0</td>\n",
       "      <td>0</td>\n",
       "      <td>0</td>\n",
       "      <td>0</td>\n",
       "      <td>0</td>\n",
       "      <td>0</td>\n",
       "      <td>0</td>\n",
       "      <td>...</td>\n",
       "      <td>0</td>\n",
       "      <td>0</td>\n",
       "      <td>0</td>\n",
       "      <td>0</td>\n",
       "      <td>0</td>\n",
       "      <td>0</td>\n",
       "      <td>0</td>\n",
       "      <td>0</td>\n",
       "      <td>0</td>\n",
       "      <td>70</td>\n",
       "    </tr>\n",
       "    <tr>\n",
       "      <th>07d955de-7752-4d00-8d65-a4f5d07ee390</th>\n",
       "      <td>0</td>\n",
       "      <td>0</td>\n",
       "      <td>0</td>\n",
       "      <td>0</td>\n",
       "      <td>0</td>\n",
       "      <td>0</td>\n",
       "      <td>0</td>\n",
       "      <td>0</td>\n",
       "      <td>0</td>\n",
       "      <td>0</td>\n",
       "      <td>...</td>\n",
       "      <td>0</td>\n",
       "      <td>0</td>\n",
       "      <td>0</td>\n",
       "      <td>0</td>\n",
       "      <td>0</td>\n",
       "      <td>0</td>\n",
       "      <td>0</td>\n",
       "      <td>0</td>\n",
       "      <td>0</td>\n",
       "      <td>58</td>\n",
       "    </tr>\n",
       "    <tr>\n",
       "      <th>08ed55cd-4a26-4a00-9750-8f3d8413d258</th>\n",
       "      <td>0</td>\n",
       "      <td>0</td>\n",
       "      <td>0</td>\n",
       "      <td>0</td>\n",
       "      <td>0</td>\n",
       "      <td>0</td>\n",
       "      <td>0</td>\n",
       "      <td>0</td>\n",
       "      <td>0</td>\n",
       "      <td>0</td>\n",
       "      <td>...</td>\n",
       "      <td>0</td>\n",
       "      <td>0</td>\n",
       "      <td>0</td>\n",
       "      <td>0</td>\n",
       "      <td>0</td>\n",
       "      <td>0</td>\n",
       "      <td>0</td>\n",
       "      <td>0</td>\n",
       "      <td>0</td>\n",
       "      <td>65</td>\n",
       "    </tr>\n",
       "  </tbody>\n",
       "</table>\n",
       "<p>5 rows × 899 columns</p>\n",
       "</div>"
      ],
      "text/plain": [
       "                                      |Eyeota|Branded Data|EMEA|EMEA ShareThis|Arts and Entertainment|Humor  \\\n",
       "mm_uuid                                                                                                       \n",
       "033f545c-6429-4000-a828-47695b9e2c52                                                  0                       \n",
       "035c551c-097e-4900-80c9-f9df6a50452c                                                  0                       \n",
       "04f155da-cfb4-4000-9cb9-f22a71107b06                                                  0                       \n",
       "07d955de-7752-4d00-8d65-a4f5d07ee390                                                  0                       \n",
       "08ed55cd-4a26-4a00-9750-8f3d8413d258                                                  0                       \n",
       "\n",
       "                                      |Eyeota|Branded Data|EMEA|EMEA ShareThis|Computers and Electronics  \\\n",
       "mm_uuid                                                                                                    \n",
       "033f545c-6429-4000-a828-47695b9e2c52                                                  0                    \n",
       "035c551c-097e-4900-80c9-f9df6a50452c                                                  0                    \n",
       "04f155da-cfb4-4000-9cb9-f22a71107b06                                                  0                    \n",
       "07d955de-7752-4d00-8d65-a4f5d07ee390                                                  0                    \n",
       "08ed55cd-4a26-4a00-9750-8f3d8413d258                                                  0                    \n",
       "\n",
       "                                      |Eyeota|Branded Data|EMEA|EMEA ShareThis|Computers and Electronics|Software  \\\n",
       "mm_uuid                                                                                                             \n",
       "033f545c-6429-4000-a828-47695b9e2c52                                                  0                             \n",
       "035c551c-097e-4900-80c9-f9df6a50452c                                                  0                             \n",
       "04f155da-cfb4-4000-9cb9-f22a71107b06                                                  0                             \n",
       "07d955de-7752-4d00-8d65-a4f5d07ee390                                                  0                             \n",
       "08ed55cd-4a26-4a00-9750-8f3d8413d258                                                  0                             \n",
       "\n",
       "                                      |Eyeota|Branded Data|EMEA|EMEA ShareThis|Computers and Electronics|Software|Open Source  \\\n",
       "mm_uuid                                                                                                                         \n",
       "033f545c-6429-4000-a828-47695b9e2c52                                                  0                                         \n",
       "035c551c-097e-4900-80c9-f9df6a50452c                                                  0                                         \n",
       "04f155da-cfb4-4000-9cb9-f22a71107b06                                                  0                                         \n",
       "07d955de-7752-4d00-8d65-a4f5d07ee390                                                  0                                         \n",
       "08ed55cd-4a26-4a00-9750-8f3d8413d258                                                  0                                         \n",
       "\n",
       "                                      |Eyeota|Branded Data|EMEA|EMEA ShareThis|Food and Drink|Food|Meat and Seafood  \\\n",
       "mm_uuid                                                                                                               \n",
       "033f545c-6429-4000-a828-47695b9e2c52                                                  0                               \n",
       "035c551c-097e-4900-80c9-f9df6a50452c                                                  0                               \n",
       "04f155da-cfb4-4000-9cb9-f22a71107b06                                                  0                               \n",
       "07d955de-7752-4d00-8d65-a4f5d07ee390                                                  0                               \n",
       "08ed55cd-4a26-4a00-9750-8f3d8413d258                                                  0                               \n",
       "\n",
       "                                      |Eyeota|Branded Data|EMEA|EMEA ShareThis|Home and Garden  \\\n",
       "mm_uuid                                                                                          \n",
       "033f545c-6429-4000-a828-47695b9e2c52                                                  0          \n",
       "035c551c-097e-4900-80c9-f9df6a50452c                                                  0          \n",
       "04f155da-cfb4-4000-9cb9-f22a71107b06                                                  0          \n",
       "07d955de-7752-4d00-8d65-a4f5d07ee390                                                  0          \n",
       "08ed55cd-4a26-4a00-9750-8f3d8413d258                                                  0          \n",
       "\n",
       "                                      |Eyeota|Branded Data|EMEA|EMEA ShareThis|Home and Garden|Bed and Bath  \\\n",
       "mm_uuid                                                                                                       \n",
       "033f545c-6429-4000-a828-47695b9e2c52                                                  0                       \n",
       "035c551c-097e-4900-80c9-f9df6a50452c                                                  0                       \n",
       "04f155da-cfb4-4000-9cb9-f22a71107b06                                                  0                       \n",
       "07d955de-7752-4d00-8d65-a4f5d07ee390                                                  0                       \n",
       "08ed55cd-4a26-4a00-9750-8f3d8413d258                                                  0                       \n",
       "\n",
       "                                      |Eyeota|Branded Data|EMEA|EMEA ShareThis|Home and Garden|Bed and Bath|Bathroom  \\\n",
       "mm_uuid                                                                                                                \n",
       "033f545c-6429-4000-a828-47695b9e2c52                                                  0                                \n",
       "035c551c-097e-4900-80c9-f9df6a50452c                                                  0                                \n",
       "04f155da-cfb4-4000-9cb9-f22a71107b06                                                  0                                \n",
       "07d955de-7752-4d00-8d65-a4f5d07ee390                                                  0                                \n",
       "08ed55cd-4a26-4a00-9750-8f3d8413d258                                                  0                                \n",
       "\n",
       "                                      |Eyeota|Branded Data|EMEA|EMEA ShareThis|Internet and Telecom  \\\n",
       "mm_uuid                                                                                               \n",
       "033f545c-6429-4000-a828-47695b9e2c52                                                  0               \n",
       "035c551c-097e-4900-80c9-f9df6a50452c                                                  0               \n",
       "04f155da-cfb4-4000-9cb9-f22a71107b06                                                  0               \n",
       "07d955de-7752-4d00-8d65-a4f5d07ee390                                                  0               \n",
       "08ed55cd-4a26-4a00-9750-8f3d8413d258                                                  0               \n",
       "\n",
       "                                      |Eyeota|Branded Data|EMEA|EMEA ShareThis|Internet and Telecom|Service Providers  \\\n",
       "mm_uuid                                                                                                                 \n",
       "033f545c-6429-4000-a828-47695b9e2c52                                                  0                                 \n",
       "035c551c-097e-4900-80c9-f9df6a50452c                                                  0                                 \n",
       "04f155da-cfb4-4000-9cb9-f22a71107b06                                                  0                                 \n",
       "07d955de-7752-4d00-8d65-a4f5d07ee390                                                  0                                 \n",
       "08ed55cd-4a26-4a00-9750-8f3d8413d258                                                  0                                 \n",
       "\n",
       "                                         ...       \\\n",
       "mm_uuid                                  ...        \n",
       "033f545c-6429-4000-a828-47695b9e2c52     ...        \n",
       "035c551c-097e-4900-80c9-f9df6a50452c     ...        \n",
       "04f155da-cfb4-4000-9cb9-f22a71107b06     ...        \n",
       "07d955de-7752-4d00-8d65-a4f5d07ee390     ...        \n",
       "08ed55cd-4a26-4a00-9750-8f3d8413d258     ...        \n",
       "\n",
       "                                      |Eyeota|Seasonal|Sport Events|Football Matches|Champions League Fans  \\\n",
       "mm_uuid                                                                                                      \n",
       "033f545c-6429-4000-a828-47695b9e2c52                                                  0                      \n",
       "035c551c-097e-4900-80c9-f9df6a50452c                                                  0                      \n",
       "04f155da-cfb4-4000-9cb9-f22a71107b06                                                  0                      \n",
       "07d955de-7752-4d00-8d65-a4f5d07ee390                                                  0                      \n",
       "08ed55cd-4a26-4a00-9750-8f3d8413d258                                                  0                      \n",
       "\n",
       "                                      |Eyeota|Seasonal|Sport Events|Football Matches|EURO 2016 France  \\\n",
       "mm_uuid                                                                                                 \n",
       "033f545c-6429-4000-a828-47695b9e2c52                                                  0                 \n",
       "035c551c-097e-4900-80c9-f9df6a50452c                                                  0                 \n",
       "04f155da-cfb4-4000-9cb9-f22a71107b06                                                  0                 \n",
       "07d955de-7752-4d00-8d65-a4f5d07ee390                                                  0                 \n",
       "08ed55cd-4a26-4a00-9750-8f3d8413d258                                                  0                 \n",
       "\n",
       "                                      |Eyeota|Seasonal|Sport Events|Football Matches|EURO 2016 France|Qualifiers  \\\n",
       "mm_uuid                                                                                                            \n",
       "033f545c-6429-4000-a828-47695b9e2c52                                                  0                            \n",
       "035c551c-097e-4900-80c9-f9df6a50452c                                                  0                            \n",
       "04f155da-cfb4-4000-9cb9-f22a71107b06                                                  0                            \n",
       "07d955de-7752-4d00-8d65-a4f5d07ee390                                                  0                            \n",
       "08ed55cd-4a26-4a00-9750-8f3d8413d258                                                  0                            \n",
       "\n",
       "                                      |Eyeota|Seasonal|Sport Events|Football Matches|FIFA World Cup 2018  \\\n",
       "mm_uuid                                                                                                    \n",
       "033f545c-6429-4000-a828-47695b9e2c52                                                  0                    \n",
       "035c551c-097e-4900-80c9-f9df6a50452c                                                  0                    \n",
       "04f155da-cfb4-4000-9cb9-f22a71107b06                                                  0                    \n",
       "07d955de-7752-4d00-8d65-a4f5d07ee390                                                  0                    \n",
       "08ed55cd-4a26-4a00-9750-8f3d8413d258                                                  0                    \n",
       "\n",
       "                                      |Eyeota|Seasonal|Sport Events|NBA  \\\n",
       "mm_uuid                                                                   \n",
       "033f545c-6429-4000-a828-47695b9e2c52                                  0   \n",
       "035c551c-097e-4900-80c9-f9df6a50452c                                  0   \n",
       "04f155da-cfb4-4000-9cb9-f22a71107b06                                  0   \n",
       "07d955de-7752-4d00-8d65-a4f5d07ee390                                  0   \n",
       "08ed55cd-4a26-4a00-9750-8f3d8413d258                                  0   \n",
       "\n",
       "                                      |Eyeota|Seasonal|Sport Events|Premier League Fans  \\\n",
       "mm_uuid                                                                                   \n",
       "033f545c-6429-4000-a828-47695b9e2c52                                                  0   \n",
       "035c551c-097e-4900-80c9-f9df6a50452c                                                  0   \n",
       "04f155da-cfb4-4000-9cb9-f22a71107b06                                                  0   \n",
       "07d955de-7752-4d00-8d65-a4f5d07ee390                                                  0   \n",
       "08ed55cd-4a26-4a00-9750-8f3d8413d258                                                  0   \n",
       "\n",
       "                                      |Eyeota|Seasonal|Sport Events|Rugby World Cup Fans  \\\n",
       "mm_uuid                                                                                    \n",
       "033f545c-6429-4000-a828-47695b9e2c52                                                  0    \n",
       "035c551c-097e-4900-80c9-f9df6a50452c                                                  0    \n",
       "04f155da-cfb4-4000-9cb9-f22a71107b06                                                  0    \n",
       "07d955de-7752-4d00-8d65-a4f5d07ee390                                                  0    \n",
       "08ed55cd-4a26-4a00-9750-8f3d8413d258                                                  0    \n",
       "\n",
       "                                      |Eyeota|Seasonal|Sport Events|Summer Olympics - Rio 2016  \\\n",
       "mm_uuid                                                                                          \n",
       "033f545c-6429-4000-a828-47695b9e2c52                                                  0          \n",
       "035c551c-097e-4900-80c9-f9df6a50452c                                                  0          \n",
       "04f155da-cfb4-4000-9cb9-f22a71107b06                                                  0          \n",
       "07d955de-7752-4d00-8d65-a4f5d07ee390                                                  0          \n",
       "08ed55cd-4a26-4a00-9750-8f3d8413d258                                                  0          \n",
       "\n",
       "                                      |Eyeota|Seasonal|Sport Events|Winter Olympics - Pyeongchang 2018  \\\n",
       "mm_uuid                                                                                                  \n",
       "033f545c-6429-4000-a828-47695b9e2c52                                                  0                  \n",
       "035c551c-097e-4900-80c9-f9df6a50452c                                                  0                  \n",
       "04f155da-cfb4-4000-9cb9-f22a71107b06                                                  0                  \n",
       "07d955de-7752-4d00-8d65-a4f5d07ee390                                                  0                  \n",
       "08ed55cd-4a26-4a00-9750-8f3d8413d258                                                  0                  \n",
       "\n",
       "                                      segment_cnt  \n",
       "mm_uuid                                            \n",
       "033f545c-6429-4000-a828-47695b9e2c52          198  \n",
       "035c551c-097e-4900-80c9-f9df6a50452c           63  \n",
       "04f155da-cfb4-4000-9cb9-f22a71107b06           70  \n",
       "07d955de-7752-4d00-8d65-a4f5d07ee390           58  \n",
       "08ed55cd-4a26-4a00-9750-8f3d8413d258           65  \n",
       "\n",
       "[5 rows x 899 columns]"
      ]
     },
     "execution_count": 63,
     "metadata": {},
     "output_type": "execute_result"
    }
   ],
   "source": [
    "dummies.head()"
   ]
  },
  {
   "cell_type": "code",
   "execution_count": 69,
   "metadata": {},
   "outputs": [
    {
     "data": {
      "text/html": [
       "<div>\n",
       "<style>\n",
       "    .dataframe thead tr:only-child th {\n",
       "        text-align: right;\n",
       "    }\n",
       "\n",
       "    .dataframe thead th {\n",
       "        text-align: left;\n",
       "    }\n",
       "\n",
       "    .dataframe tbody tr th {\n",
       "        vertical-align: top;\n",
       "    }\n",
       "</style>\n",
       "<table border=\"1\" class=\"dataframe\">\n",
       "  <thead>\n",
       "    <tr style=\"text-align: right;\">\n",
       "      <th></th>\n",
       "      <th>|Eyeota|Branded Data|EMEA|EMEA ShareThis|Arts and Entertainment|Humor</th>\n",
       "      <th>|Eyeota|Branded Data|EMEA|EMEA ShareThis|Computers and Electronics</th>\n",
       "      <th>|Eyeota|Branded Data|EMEA|EMEA ShareThis|Computers and Electronics|Software</th>\n",
       "      <th>|Eyeota|Branded Data|EMEA|EMEA ShareThis|Computers and Electronics|Software|Open Source</th>\n",
       "      <th>|Eyeota|Branded Data|EMEA|EMEA ShareThis|Food and Drink|Food|Meat and Seafood</th>\n",
       "      <th>|Eyeota|Branded Data|EMEA|EMEA ShareThis|Home and Garden</th>\n",
       "      <th>|Eyeota|Branded Data|EMEA|EMEA ShareThis|Home and Garden|Bed and Bath</th>\n",
       "      <th>|Eyeota|Branded Data|EMEA|EMEA ShareThis|Home and Garden|Bed and Bath|Bathroom</th>\n",
       "      <th>|Eyeota|Branded Data|EMEA|EMEA ShareThis|Internet and Telecom</th>\n",
       "      <th>|Eyeota|Branded Data|EMEA|EMEA ShareThis|Internet and Telecom|Service Providers</th>\n",
       "      <th>...</th>\n",
       "      <th>|Eyeota|Seasonal|Sport Events|Football Matches|Champions League Fans</th>\n",
       "      <th>|Eyeota|Seasonal|Sport Events|Football Matches|EURO 2016 France</th>\n",
       "      <th>|Eyeota|Seasonal|Sport Events|Football Matches|EURO 2016 France|Qualifiers</th>\n",
       "      <th>|Eyeota|Seasonal|Sport Events|Football Matches|FIFA World Cup 2018</th>\n",
       "      <th>|Eyeota|Seasonal|Sport Events|NBA</th>\n",
       "      <th>|Eyeota|Seasonal|Sport Events|Premier League Fans</th>\n",
       "      <th>|Eyeota|Seasonal|Sport Events|Rugby World Cup Fans</th>\n",
       "      <th>|Eyeota|Seasonal|Sport Events|Summer Olympics - Rio 2016</th>\n",
       "      <th>|Eyeota|Seasonal|Sport Events|Winter Olympics - Pyeongchang 2018</th>\n",
       "      <th>segment_cnt</th>\n",
       "    </tr>\n",
       "    <tr>\n",
       "      <th>mm_uuid</th>\n",
       "      <th></th>\n",
       "      <th></th>\n",
       "      <th></th>\n",
       "      <th></th>\n",
       "      <th></th>\n",
       "      <th></th>\n",
       "      <th></th>\n",
       "      <th></th>\n",
       "      <th></th>\n",
       "      <th></th>\n",
       "      <th></th>\n",
       "      <th></th>\n",
       "      <th></th>\n",
       "      <th></th>\n",
       "      <th></th>\n",
       "      <th></th>\n",
       "      <th></th>\n",
       "      <th></th>\n",
       "      <th></th>\n",
       "      <th></th>\n",
       "      <th></th>\n",
       "    </tr>\n",
       "  </thead>\n",
       "  <tbody>\n",
       "    <tr>\n",
       "      <th>9a60557c-f1a2-4b00-b39a-2842a4df66b2</th>\n",
       "      <td>1</td>\n",
       "      <td>1</td>\n",
       "      <td>1</td>\n",
       "      <td>1</td>\n",
       "      <td>1</td>\n",
       "      <td>1</td>\n",
       "      <td>1</td>\n",
       "      <td>1</td>\n",
       "      <td>1</td>\n",
       "      <td>1</td>\n",
       "      <td>...</td>\n",
       "      <td>0</td>\n",
       "      <td>0</td>\n",
       "      <td>0</td>\n",
       "      <td>0</td>\n",
       "      <td>0</td>\n",
       "      <td>0</td>\n",
       "      <td>0</td>\n",
       "      <td>0</td>\n",
       "      <td>0</td>\n",
       "      <td>426</td>\n",
       "    </tr>\n",
       "    <tr>\n",
       "      <th>a97d5693-216d-4500-b6de-568a2e87dfd9</th>\n",
       "      <td>0</td>\n",
       "      <td>0</td>\n",
       "      <td>0</td>\n",
       "      <td>0</td>\n",
       "      <td>0</td>\n",
       "      <td>0</td>\n",
       "      <td>0</td>\n",
       "      <td>0</td>\n",
       "      <td>0</td>\n",
       "      <td>0</td>\n",
       "      <td>...</td>\n",
       "      <td>0</td>\n",
       "      <td>0</td>\n",
       "      <td>0</td>\n",
       "      <td>0</td>\n",
       "      <td>0</td>\n",
       "      <td>0</td>\n",
       "      <td>0</td>\n",
       "      <td>0</td>\n",
       "      <td>0</td>\n",
       "      <td>304</td>\n",
       "    </tr>\n",
       "    <tr>\n",
       "      <th>b55a569f-9000-4d00-a977-98afb2d65b9f</th>\n",
       "      <td>0</td>\n",
       "      <td>0</td>\n",
       "      <td>0</td>\n",
       "      <td>0</td>\n",
       "      <td>0</td>\n",
       "      <td>0</td>\n",
       "      <td>0</td>\n",
       "      <td>0</td>\n",
       "      <td>0</td>\n",
       "      <td>0</td>\n",
       "      <td>...</td>\n",
       "      <td>0</td>\n",
       "      <td>0</td>\n",
       "      <td>0</td>\n",
       "      <td>0</td>\n",
       "      <td>0</td>\n",
       "      <td>0</td>\n",
       "      <td>0</td>\n",
       "      <td>0</td>\n",
       "      <td>0</td>\n",
       "      <td>220</td>\n",
       "    </tr>\n",
       "    <tr>\n",
       "      <th>58795583-dd06-4d00-a85c-f7f625e14751</th>\n",
       "      <td>0</td>\n",
       "      <td>0</td>\n",
       "      <td>0</td>\n",
       "      <td>0</td>\n",
       "      <td>0</td>\n",
       "      <td>0</td>\n",
       "      <td>0</td>\n",
       "      <td>0</td>\n",
       "      <td>0</td>\n",
       "      <td>0</td>\n",
       "      <td>...</td>\n",
       "      <td>0</td>\n",
       "      <td>0</td>\n",
       "      <td>0</td>\n",
       "      <td>0</td>\n",
       "      <td>0</td>\n",
       "      <td>0</td>\n",
       "      <td>0</td>\n",
       "      <td>0</td>\n",
       "      <td>0</td>\n",
       "      <td>200</td>\n",
       "    </tr>\n",
       "    <tr>\n",
       "      <th>033f545c-6429-4000-a828-47695b9e2c52</th>\n",
       "      <td>0</td>\n",
       "      <td>0</td>\n",
       "      <td>0</td>\n",
       "      <td>0</td>\n",
       "      <td>0</td>\n",
       "      <td>0</td>\n",
       "      <td>0</td>\n",
       "      <td>0</td>\n",
       "      <td>0</td>\n",
       "      <td>0</td>\n",
       "      <td>...</td>\n",
       "      <td>0</td>\n",
       "      <td>0</td>\n",
       "      <td>0</td>\n",
       "      <td>0</td>\n",
       "      <td>0</td>\n",
       "      <td>0</td>\n",
       "      <td>0</td>\n",
       "      <td>0</td>\n",
       "      <td>0</td>\n",
       "      <td>198</td>\n",
       "    </tr>\n",
       "  </tbody>\n",
       "</table>\n",
       "<p>5 rows × 899 columns</p>\n",
       "</div>"
      ],
      "text/plain": [
       "                                      |Eyeota|Branded Data|EMEA|EMEA ShareThis|Arts and Entertainment|Humor  \\\n",
       "mm_uuid                                                                                                       \n",
       "9a60557c-f1a2-4b00-b39a-2842a4df66b2                                                  1                       \n",
       "a97d5693-216d-4500-b6de-568a2e87dfd9                                                  0                       \n",
       "b55a569f-9000-4d00-a977-98afb2d65b9f                                                  0                       \n",
       "58795583-dd06-4d00-a85c-f7f625e14751                                                  0                       \n",
       "033f545c-6429-4000-a828-47695b9e2c52                                                  0                       \n",
       "\n",
       "                                      |Eyeota|Branded Data|EMEA|EMEA ShareThis|Computers and Electronics  \\\n",
       "mm_uuid                                                                                                    \n",
       "9a60557c-f1a2-4b00-b39a-2842a4df66b2                                                  1                    \n",
       "a97d5693-216d-4500-b6de-568a2e87dfd9                                                  0                    \n",
       "b55a569f-9000-4d00-a977-98afb2d65b9f                                                  0                    \n",
       "58795583-dd06-4d00-a85c-f7f625e14751                                                  0                    \n",
       "033f545c-6429-4000-a828-47695b9e2c52                                                  0                    \n",
       "\n",
       "                                      |Eyeota|Branded Data|EMEA|EMEA ShareThis|Computers and Electronics|Software  \\\n",
       "mm_uuid                                                                                                             \n",
       "9a60557c-f1a2-4b00-b39a-2842a4df66b2                                                  1                             \n",
       "a97d5693-216d-4500-b6de-568a2e87dfd9                                                  0                             \n",
       "b55a569f-9000-4d00-a977-98afb2d65b9f                                                  0                             \n",
       "58795583-dd06-4d00-a85c-f7f625e14751                                                  0                             \n",
       "033f545c-6429-4000-a828-47695b9e2c52                                                  0                             \n",
       "\n",
       "                                      |Eyeota|Branded Data|EMEA|EMEA ShareThis|Computers and Electronics|Software|Open Source  \\\n",
       "mm_uuid                                                                                                                         \n",
       "9a60557c-f1a2-4b00-b39a-2842a4df66b2                                                  1                                         \n",
       "a97d5693-216d-4500-b6de-568a2e87dfd9                                                  0                                         \n",
       "b55a569f-9000-4d00-a977-98afb2d65b9f                                                  0                                         \n",
       "58795583-dd06-4d00-a85c-f7f625e14751                                                  0                                         \n",
       "033f545c-6429-4000-a828-47695b9e2c52                                                  0                                         \n",
       "\n",
       "                                      |Eyeota|Branded Data|EMEA|EMEA ShareThis|Food and Drink|Food|Meat and Seafood  \\\n",
       "mm_uuid                                                                                                               \n",
       "9a60557c-f1a2-4b00-b39a-2842a4df66b2                                                  1                               \n",
       "a97d5693-216d-4500-b6de-568a2e87dfd9                                                  0                               \n",
       "b55a569f-9000-4d00-a977-98afb2d65b9f                                                  0                               \n",
       "58795583-dd06-4d00-a85c-f7f625e14751                                                  0                               \n",
       "033f545c-6429-4000-a828-47695b9e2c52                                                  0                               \n",
       "\n",
       "                                      |Eyeota|Branded Data|EMEA|EMEA ShareThis|Home and Garden  \\\n",
       "mm_uuid                                                                                          \n",
       "9a60557c-f1a2-4b00-b39a-2842a4df66b2                                                  1          \n",
       "a97d5693-216d-4500-b6de-568a2e87dfd9                                                  0          \n",
       "b55a569f-9000-4d00-a977-98afb2d65b9f                                                  0          \n",
       "58795583-dd06-4d00-a85c-f7f625e14751                                                  0          \n",
       "033f545c-6429-4000-a828-47695b9e2c52                                                  0          \n",
       "\n",
       "                                      |Eyeota|Branded Data|EMEA|EMEA ShareThis|Home and Garden|Bed and Bath  \\\n",
       "mm_uuid                                                                                                       \n",
       "9a60557c-f1a2-4b00-b39a-2842a4df66b2                                                  1                       \n",
       "a97d5693-216d-4500-b6de-568a2e87dfd9                                                  0                       \n",
       "b55a569f-9000-4d00-a977-98afb2d65b9f                                                  0                       \n",
       "58795583-dd06-4d00-a85c-f7f625e14751                                                  0                       \n",
       "033f545c-6429-4000-a828-47695b9e2c52                                                  0                       \n",
       "\n",
       "                                      |Eyeota|Branded Data|EMEA|EMEA ShareThis|Home and Garden|Bed and Bath|Bathroom  \\\n",
       "mm_uuid                                                                                                                \n",
       "9a60557c-f1a2-4b00-b39a-2842a4df66b2                                                  1                                \n",
       "a97d5693-216d-4500-b6de-568a2e87dfd9                                                  0                                \n",
       "b55a569f-9000-4d00-a977-98afb2d65b9f                                                  0                                \n",
       "58795583-dd06-4d00-a85c-f7f625e14751                                                  0                                \n",
       "033f545c-6429-4000-a828-47695b9e2c52                                                  0                                \n",
       "\n",
       "                                      |Eyeota|Branded Data|EMEA|EMEA ShareThis|Internet and Telecom  \\\n",
       "mm_uuid                                                                                               \n",
       "9a60557c-f1a2-4b00-b39a-2842a4df66b2                                                  1               \n",
       "a97d5693-216d-4500-b6de-568a2e87dfd9                                                  0               \n",
       "b55a569f-9000-4d00-a977-98afb2d65b9f                                                  0               \n",
       "58795583-dd06-4d00-a85c-f7f625e14751                                                  0               \n",
       "033f545c-6429-4000-a828-47695b9e2c52                                                  0               \n",
       "\n",
       "                                      |Eyeota|Branded Data|EMEA|EMEA ShareThis|Internet and Telecom|Service Providers  \\\n",
       "mm_uuid                                                                                                                 \n",
       "9a60557c-f1a2-4b00-b39a-2842a4df66b2                                                  1                                 \n",
       "a97d5693-216d-4500-b6de-568a2e87dfd9                                                  0                                 \n",
       "b55a569f-9000-4d00-a977-98afb2d65b9f                                                  0                                 \n",
       "58795583-dd06-4d00-a85c-f7f625e14751                                                  0                                 \n",
       "033f545c-6429-4000-a828-47695b9e2c52                                                  0                                 \n",
       "\n",
       "                                         ...       \\\n",
       "mm_uuid                                  ...        \n",
       "9a60557c-f1a2-4b00-b39a-2842a4df66b2     ...        \n",
       "a97d5693-216d-4500-b6de-568a2e87dfd9     ...        \n",
       "b55a569f-9000-4d00-a977-98afb2d65b9f     ...        \n",
       "58795583-dd06-4d00-a85c-f7f625e14751     ...        \n",
       "033f545c-6429-4000-a828-47695b9e2c52     ...        \n",
       "\n",
       "                                      |Eyeota|Seasonal|Sport Events|Football Matches|Champions League Fans  \\\n",
       "mm_uuid                                                                                                      \n",
       "9a60557c-f1a2-4b00-b39a-2842a4df66b2                                                  0                      \n",
       "a97d5693-216d-4500-b6de-568a2e87dfd9                                                  0                      \n",
       "b55a569f-9000-4d00-a977-98afb2d65b9f                                                  0                      \n",
       "58795583-dd06-4d00-a85c-f7f625e14751                                                  0                      \n",
       "033f545c-6429-4000-a828-47695b9e2c52                                                  0                      \n",
       "\n",
       "                                      |Eyeota|Seasonal|Sport Events|Football Matches|EURO 2016 France  \\\n",
       "mm_uuid                                                                                                 \n",
       "9a60557c-f1a2-4b00-b39a-2842a4df66b2                                                  0                 \n",
       "a97d5693-216d-4500-b6de-568a2e87dfd9                                                  0                 \n",
       "b55a569f-9000-4d00-a977-98afb2d65b9f                                                  0                 \n",
       "58795583-dd06-4d00-a85c-f7f625e14751                                                  0                 \n",
       "033f545c-6429-4000-a828-47695b9e2c52                                                  0                 \n",
       "\n",
       "                                      |Eyeota|Seasonal|Sport Events|Football Matches|EURO 2016 France|Qualifiers  \\\n",
       "mm_uuid                                                                                                            \n",
       "9a60557c-f1a2-4b00-b39a-2842a4df66b2                                                  0                            \n",
       "a97d5693-216d-4500-b6de-568a2e87dfd9                                                  0                            \n",
       "b55a569f-9000-4d00-a977-98afb2d65b9f                                                  0                            \n",
       "58795583-dd06-4d00-a85c-f7f625e14751                                                  0                            \n",
       "033f545c-6429-4000-a828-47695b9e2c52                                                  0                            \n",
       "\n",
       "                                      |Eyeota|Seasonal|Sport Events|Football Matches|FIFA World Cup 2018  \\\n",
       "mm_uuid                                                                                                    \n",
       "9a60557c-f1a2-4b00-b39a-2842a4df66b2                                                  0                    \n",
       "a97d5693-216d-4500-b6de-568a2e87dfd9                                                  0                    \n",
       "b55a569f-9000-4d00-a977-98afb2d65b9f                                                  0                    \n",
       "58795583-dd06-4d00-a85c-f7f625e14751                                                  0                    \n",
       "033f545c-6429-4000-a828-47695b9e2c52                                                  0                    \n",
       "\n",
       "                                      |Eyeota|Seasonal|Sport Events|NBA  \\\n",
       "mm_uuid                                                                   \n",
       "9a60557c-f1a2-4b00-b39a-2842a4df66b2                                  0   \n",
       "a97d5693-216d-4500-b6de-568a2e87dfd9                                  0   \n",
       "b55a569f-9000-4d00-a977-98afb2d65b9f                                  0   \n",
       "58795583-dd06-4d00-a85c-f7f625e14751                                  0   \n",
       "033f545c-6429-4000-a828-47695b9e2c52                                  0   \n",
       "\n",
       "                                      |Eyeota|Seasonal|Sport Events|Premier League Fans  \\\n",
       "mm_uuid                                                                                   \n",
       "9a60557c-f1a2-4b00-b39a-2842a4df66b2                                                  0   \n",
       "a97d5693-216d-4500-b6de-568a2e87dfd9                                                  0   \n",
       "b55a569f-9000-4d00-a977-98afb2d65b9f                                                  0   \n",
       "58795583-dd06-4d00-a85c-f7f625e14751                                                  0   \n",
       "033f545c-6429-4000-a828-47695b9e2c52                                                  0   \n",
       "\n",
       "                                      |Eyeota|Seasonal|Sport Events|Rugby World Cup Fans  \\\n",
       "mm_uuid                                                                                    \n",
       "9a60557c-f1a2-4b00-b39a-2842a4df66b2                                                  0    \n",
       "a97d5693-216d-4500-b6de-568a2e87dfd9                                                  0    \n",
       "b55a569f-9000-4d00-a977-98afb2d65b9f                                                  0    \n",
       "58795583-dd06-4d00-a85c-f7f625e14751                                                  0    \n",
       "033f545c-6429-4000-a828-47695b9e2c52                                                  0    \n",
       "\n",
       "                                      |Eyeota|Seasonal|Sport Events|Summer Olympics - Rio 2016  \\\n",
       "mm_uuid                                                                                          \n",
       "9a60557c-f1a2-4b00-b39a-2842a4df66b2                                                  0          \n",
       "a97d5693-216d-4500-b6de-568a2e87dfd9                                                  0          \n",
       "b55a569f-9000-4d00-a977-98afb2d65b9f                                                  0          \n",
       "58795583-dd06-4d00-a85c-f7f625e14751                                                  0          \n",
       "033f545c-6429-4000-a828-47695b9e2c52                                                  0          \n",
       "\n",
       "                                      |Eyeota|Seasonal|Sport Events|Winter Olympics - Pyeongchang 2018  \\\n",
       "mm_uuid                                                                                                  \n",
       "9a60557c-f1a2-4b00-b39a-2842a4df66b2                                                  0                  \n",
       "a97d5693-216d-4500-b6de-568a2e87dfd9                                                  0                  \n",
       "b55a569f-9000-4d00-a977-98afb2d65b9f                                                  0                  \n",
       "58795583-dd06-4d00-a85c-f7f625e14751                                                  0                  \n",
       "033f545c-6429-4000-a828-47695b9e2c52                                                  0                  \n",
       "\n",
       "                                      segment_cnt  \n",
       "mm_uuid                                            \n",
       "9a60557c-f1a2-4b00-b39a-2842a4df66b2          426  \n",
       "a97d5693-216d-4500-b6de-568a2e87dfd9          304  \n",
       "b55a569f-9000-4d00-a977-98afb2d65b9f          220  \n",
       "58795583-dd06-4d00-a85c-f7f625e14751          200  \n",
       "033f545c-6429-4000-a828-47695b9e2c52          198  \n",
       "\n",
       "[5 rows x 899 columns]"
      ]
     },
     "execution_count": 69,
     "metadata": {},
     "output_type": "execute_result"
    }
   ],
   "source": [
    "dummies.sort_values(['segment_cnt'],ascending=False).head()"
   ]
  },
  {
   "cell_type": "code",
   "execution_count": 70,
   "metadata": {
    "collapsed": true,
    "scrolled": false
   },
   "outputs": [],
   "source": [
    "segment_popularity =pd.DataFrame.from_dict(dummies[dummies.columns[1:]].sum())"
   ]
  },
  {
   "cell_type": "code",
   "execution_count": 71,
   "metadata": {},
   "outputs": [
    {
     "data": {
      "text/html": [
       "<div>\n",
       "<style>\n",
       "    .dataframe thead tr:only-child th {\n",
       "        text-align: right;\n",
       "    }\n",
       "\n",
       "    .dataframe thead th {\n",
       "        text-align: left;\n",
       "    }\n",
       "\n",
       "    .dataframe tbody tr th {\n",
       "        vertical-align: top;\n",
       "    }\n",
       "</style>\n",
       "<table border=\"1\" class=\"dataframe\">\n",
       "  <thead>\n",
       "    <tr style=\"text-align: right;\">\n",
       "      <th></th>\n",
       "      <th>0</th>\n",
       "    </tr>\n",
       "  </thead>\n",
       "  <tbody>\n",
       "    <tr>\n",
       "      <th>count</th>\n",
       "      <td>898.000000</td>\n",
       "    </tr>\n",
       "    <tr>\n",
       "      <th>mean</th>\n",
       "      <td>22.876392</td>\n",
       "    </tr>\n",
       "    <tr>\n",
       "      <th>std</th>\n",
       "      <td>342.802301</td>\n",
       "    </tr>\n",
       "    <tr>\n",
       "      <th>min</th>\n",
       "      <td>1.000000</td>\n",
       "    </tr>\n",
       "    <tr>\n",
       "      <th>25%</th>\n",
       "      <td>1.000000</td>\n",
       "    </tr>\n",
       "    <tr>\n",
       "      <th>50%</th>\n",
       "      <td>4.000000</td>\n",
       "    </tr>\n",
       "    <tr>\n",
       "      <th>75%</th>\n",
       "      <td>15.000000</td>\n",
       "    </tr>\n",
       "    <tr>\n",
       "      <th>max</th>\n",
       "      <td>10272.000000</td>\n",
       "    </tr>\n",
       "  </tbody>\n",
       "</table>\n",
       "</div>"
      ],
      "text/plain": [
       "                  0\n",
       "count    898.000000\n",
       "mean      22.876392\n",
       "std      342.802301\n",
       "min        1.000000\n",
       "25%        1.000000\n",
       "50%        4.000000\n",
       "75%       15.000000\n",
       "max    10272.000000"
      ]
     },
     "execution_count": 71,
     "metadata": {},
     "output_type": "execute_result"
    }
   ],
   "source": [
    "segment_popularity.describe()"
   ]
  },
  {
   "cell_type": "code",
   "execution_count": 72,
   "metadata": {},
   "outputs": [
    {
     "data": {
      "text/html": [
       "<div>\n",
       "<style>\n",
       "    .dataframe thead tr:only-child th {\n",
       "        text-align: right;\n",
       "    }\n",
       "\n",
       "    .dataframe thead th {\n",
       "        text-align: left;\n",
       "    }\n",
       "\n",
       "    .dataframe tbody tr th {\n",
       "        vertical-align: top;\n",
       "    }\n",
       "</style>\n",
       "<table border=\"1\" class=\"dataframe\">\n",
       "  <thead>\n",
       "    <tr style=\"text-align: right;\">\n",
       "      <th></th>\n",
       "      <th>0</th>\n",
       "    </tr>\n",
       "  </thead>\n",
       "  <tbody>\n",
       "    <tr>\n",
       "      <th>segment_cnt</th>\n",
       "      <td>10272</td>\n",
       "    </tr>\n",
       "    <tr>\n",
       "      <th>|Eyeota|Business or B2B</th>\n",
       "      <td>108</td>\n",
       "    </tr>\n",
       "    <tr>\n",
       "      <th>|Eyeota|Branded Data|Global Bombora|B2B|Professional Groups|Business Professional</th>\n",
       "      <td>102</td>\n",
       "    </tr>\n",
       "    <tr>\n",
       "      <th>|Eyeota|Interest|Tech Enthusiasts</th>\n",
       "      <td>101</td>\n",
       "    </tr>\n",
       "    <tr>\n",
       "      <th>|Eyeota|Business or B2B|Professions|Business Professionals</th>\n",
       "      <td>100</td>\n",
       "    </tr>\n",
       "    <tr>\n",
       "      <th>|Eyeota|Regional Taxonomies|Southeast Asia (SEA)|Interest|Tech Enthusiasts</th>\n",
       "      <td>97</td>\n",
       "    </tr>\n",
       "    <tr>\n",
       "      <th>|Eyeota|Business or B2B|Interest|Marketing and Advertising</th>\n",
       "      <td>81</td>\n",
       "    </tr>\n",
       "    <tr>\n",
       "      <th>|Eyeota|Interest|Entertainment</th>\n",
       "      <td>79</td>\n",
       "    </tr>\n",
       "    <tr>\n",
       "      <th>|Eyeota|Regional Taxonomies|Southeast Asia (SEA)|Interest|Arts and Entertainment</th>\n",
       "      <td>77</td>\n",
       "    </tr>\n",
       "    <tr>\n",
       "      <th>|Eyeota|Business or B2B|Interest|IT and Technology</th>\n",
       "      <td>74</td>\n",
       "    </tr>\n",
       "    <tr>\n",
       "      <th>|Eyeota|Branded Data|Global Bombora|B2B|Install Data|Web-Oriented Architecture|Web and Portal Technology</th>\n",
       "      <td>73</td>\n",
       "    </tr>\n",
       "    <tr>\n",
       "      <th>|Eyeota|Demographic|Employment Industry|HR and Recruitment</th>\n",
       "      <td>72</td>\n",
       "    </tr>\n",
       "    <tr>\n",
       "      <th>|Eyeota|Business or B2B|Interest|HR and Recruitment</th>\n",
       "      <td>69</td>\n",
       "    </tr>\n",
       "    <tr>\n",
       "      <th>|Eyeota|Branded Data|Global Bombora|B2B|Professional Groups|IT Professional</th>\n",
       "      <td>67</td>\n",
       "    </tr>\n",
       "    <tr>\n",
       "      <th>|Eyeota|Branded Data|Global Bombora|B2B|B2B Predictive Signals|Technology</th>\n",
       "      <td>66</td>\n",
       "    </tr>\n",
       "    <tr>\n",
       "      <th>|Eyeota|Demographic|Employment Industry|IT</th>\n",
       "      <td>65</td>\n",
       "    </tr>\n",
       "    <tr>\n",
       "      <th>|Eyeota|Business or B2B|Professions|Tech / IT Professionals</th>\n",
       "      <td>65</td>\n",
       "    </tr>\n",
       "    <tr>\n",
       "      <th>|Eyeota|Branded Data|Global Bombora|B2B|Functional Area|Information Technology</th>\n",
       "      <td>64</td>\n",
       "    </tr>\n",
       "    <tr>\n",
       "      <th>|Eyeota|Business or B2B|Interest|Banking and Finance</th>\n",
       "      <td>64</td>\n",
       "    </tr>\n",
       "    <tr>\n",
       "      <th>|Eyeota|Branded Data|Global Bombora|B2B|B2B Predictive Signals|Human Resources</th>\n",
       "      <td>63</td>\n",
       "    </tr>\n",
       "  </tbody>\n",
       "</table>\n",
       "</div>"
      ],
      "text/plain": [
       "                                                        0\n",
       "segment_cnt                                         10272\n",
       "|Eyeota|Business or B2B                               108\n",
       "|Eyeota|Branded Data|Global Bombora|B2B|Profess...    102\n",
       "|Eyeota|Interest|Tech Enthusiasts                     101\n",
       "|Eyeota|Business or B2B|Professions|Business Pr...    100\n",
       "|Eyeota|Regional Taxonomies|Southeast Asia (SEA...     97\n",
       "|Eyeota|Business or B2B|Interest|Marketing and ...     81\n",
       "|Eyeota|Interest|Entertainment                         79\n",
       "|Eyeota|Regional Taxonomies|Southeast Asia (SEA...     77\n",
       "|Eyeota|Business or B2B|Interest|IT and Technology     74\n",
       "|Eyeota|Branded Data|Global Bombora|B2B|Install...     73\n",
       "|Eyeota|Demographic|Employment Industry|HR and ...     72\n",
       "|Eyeota|Business or B2B|Interest|HR and Recruit...     69\n",
       "|Eyeota|Branded Data|Global Bombora|B2B|Profess...     67\n",
       "|Eyeota|Branded Data|Global Bombora|B2B|B2B Pre...     66\n",
       "|Eyeota|Demographic|Employment Industry|IT             65\n",
       "|Eyeota|Business or B2B|Professions|Tech / IT P...     65\n",
       "|Eyeota|Branded Data|Global Bombora|B2B|Functio...     64\n",
       "|Eyeota|Business or B2B|Interest|Banking and Fi...     64\n",
       "|Eyeota|Branded Data|Global Bombora|B2B|B2B Pre...     63"
      ]
     },
     "execution_count": 72,
     "metadata": {},
     "output_type": "execute_result"
    }
   ],
   "source": [
    "segment_popularity.sort_values(0, ascending=False).head(20)"
   ]
  },
  {
   "cell_type": "markdown",
   "metadata": {
    "collapsed": true
   },
   "source": [
    "### Merging the Audience Data with Declared Gender"
   ]
  },
  {
   "cell_type": "code",
   "execution_count": 73,
   "metadata": {
    "collapsed": true
   },
   "outputs": [],
   "source": [
    "ccs_gender.columns=['mm_uuid', 'ccs_uid', 'Gender']"
   ]
  },
  {
   "cell_type": "code",
   "execution_count": 74,
   "metadata": {
    "collapsed": true
   },
   "outputs": [],
   "source": [
    "dummies=dummies.reset_index()"
   ]
  },
  {
   "cell_type": "code",
   "execution_count": 75,
   "metadata": {
    "collapsed": true,
    "scrolled": false
   },
   "outputs": [],
   "source": [
    "data = ccs_gender.join(dummies.set_index('mm_uuid'),how='right',on='mm_uuid')"
   ]
  },
  {
   "cell_type": "code",
   "execution_count": 76,
   "metadata": {
    "scrolled": false
   },
   "outputs": [
    {
     "data": {
      "text/html": [
       "<div>\n",
       "<style>\n",
       "    .dataframe thead tr:only-child th {\n",
       "        text-align: right;\n",
       "    }\n",
       "\n",
       "    .dataframe thead th {\n",
       "        text-align: left;\n",
       "    }\n",
       "\n",
       "    .dataframe tbody tr th {\n",
       "        vertical-align: top;\n",
       "    }\n",
       "</style>\n",
       "<table border=\"1\" class=\"dataframe\">\n",
       "  <thead>\n",
       "    <tr style=\"text-align: right;\">\n",
       "      <th></th>\n",
       "      <th>mm_uuid</th>\n",
       "      <th>ccs_uid</th>\n",
       "      <th>Gender</th>\n",
       "      <th>|Eyeota|Branded Data|EMEA|EMEA ShareThis|Arts and Entertainment|Humor</th>\n",
       "      <th>|Eyeota|Branded Data|EMEA|EMEA ShareThis|Computers and Electronics</th>\n",
       "      <th>|Eyeota|Branded Data|EMEA|EMEA ShareThis|Computers and Electronics|Software</th>\n",
       "      <th>|Eyeota|Branded Data|EMEA|EMEA ShareThis|Computers and Electronics|Software|Open Source</th>\n",
       "      <th>|Eyeota|Branded Data|EMEA|EMEA ShareThis|Food and Drink|Food|Meat and Seafood</th>\n",
       "      <th>|Eyeota|Branded Data|EMEA|EMEA ShareThis|Home and Garden</th>\n",
       "      <th>|Eyeota|Branded Data|EMEA|EMEA ShareThis|Home and Garden|Bed and Bath</th>\n",
       "      <th>...</th>\n",
       "      <th>|Eyeota|Seasonal|Sport Events|Football Matches|Champions League Fans</th>\n",
       "      <th>|Eyeota|Seasonal|Sport Events|Football Matches|EURO 2016 France</th>\n",
       "      <th>|Eyeota|Seasonal|Sport Events|Football Matches|EURO 2016 France|Qualifiers</th>\n",
       "      <th>|Eyeota|Seasonal|Sport Events|Football Matches|FIFA World Cup 2018</th>\n",
       "      <th>|Eyeota|Seasonal|Sport Events|NBA</th>\n",
       "      <th>|Eyeota|Seasonal|Sport Events|Premier League Fans</th>\n",
       "      <th>|Eyeota|Seasonal|Sport Events|Rugby World Cup Fans</th>\n",
       "      <th>|Eyeota|Seasonal|Sport Events|Summer Olympics - Rio 2016</th>\n",
       "      <th>|Eyeota|Seasonal|Sport Events|Winter Olympics - Pyeongchang 2018</th>\n",
       "      <th>segment_cnt</th>\n",
       "    </tr>\n",
       "  </thead>\n",
       "  <tbody>\n",
       "    <tr>\n",
       "      <th>35</th>\n",
       "      <td>152a56c3-d253-4b00-b7fa-8114c399815b</td>\n",
       "      <td>SGP16200000312</td>\n",
       "      <td>Male</td>\n",
       "      <td>0</td>\n",
       "      <td>0</td>\n",
       "      <td>0</td>\n",
       "      <td>0</td>\n",
       "      <td>0</td>\n",
       "      <td>0</td>\n",
       "      <td>0</td>\n",
       "      <td>...</td>\n",
       "      <td>0</td>\n",
       "      <td>0</td>\n",
       "      <td>0</td>\n",
       "      <td>0</td>\n",
       "      <td>0</td>\n",
       "      <td>0</td>\n",
       "      <td>0</td>\n",
       "      <td>0</td>\n",
       "      <td>0</td>\n",
       "      <td>146</td>\n",
       "    </tr>\n",
       "    <tr>\n",
       "      <th>37</th>\n",
       "      <td>1cf455cf-1993-4000-8175-b128aec36937</td>\n",
       "      <td>SGP16200004196</td>\n",
       "      <td>Female</td>\n",
       "      <td>0</td>\n",
       "      <td>0</td>\n",
       "      <td>0</td>\n",
       "      <td>0</td>\n",
       "      <td>0</td>\n",
       "      <td>0</td>\n",
       "      <td>0</td>\n",
       "      <td>...</td>\n",
       "      <td>0</td>\n",
       "      <td>0</td>\n",
       "      <td>0</td>\n",
       "      <td>0</td>\n",
       "      <td>0</td>\n",
       "      <td>0</td>\n",
       "      <td>0</td>\n",
       "      <td>0</td>\n",
       "      <td>0</td>\n",
       "      <td>32</td>\n",
       "    </tr>\n",
       "    <tr>\n",
       "      <th>53</th>\n",
       "      <td>9c9553b3-b1e2-4400-9d9f-bebfb2b0702a</td>\n",
       "      <td>SGP16200004293</td>\n",
       "      <td>Male</td>\n",
       "      <td>0</td>\n",
       "      <td>0</td>\n",
       "      <td>0</td>\n",
       "      <td>0</td>\n",
       "      <td>0</td>\n",
       "      <td>0</td>\n",
       "      <td>0</td>\n",
       "      <td>...</td>\n",
       "      <td>0</td>\n",
       "      <td>0</td>\n",
       "      <td>0</td>\n",
       "      <td>0</td>\n",
       "      <td>0</td>\n",
       "      <td>0</td>\n",
       "      <td>0</td>\n",
       "      <td>0</td>\n",
       "      <td>0</td>\n",
       "      <td>66</td>\n",
       "    </tr>\n",
       "    <tr>\n",
       "      <th>54</th>\n",
       "      <td>ff7756d5-73d8-4e00-a738-ccdfbed7e3be</td>\n",
       "      <td>SGP16200004356</td>\n",
       "      <td>Male</td>\n",
       "      <td>0</td>\n",
       "      <td>0</td>\n",
       "      <td>0</td>\n",
       "      <td>0</td>\n",
       "      <td>0</td>\n",
       "      <td>0</td>\n",
       "      <td>0</td>\n",
       "      <td>...</td>\n",
       "      <td>0</td>\n",
       "      <td>0</td>\n",
       "      <td>0</td>\n",
       "      <td>1</td>\n",
       "      <td>0</td>\n",
       "      <td>0</td>\n",
       "      <td>0</td>\n",
       "      <td>0</td>\n",
       "      <td>0</td>\n",
       "      <td>120</td>\n",
       "    </tr>\n",
       "    <tr>\n",
       "      <th>76</th>\n",
       "      <td>92c354f6-a838-4f00-9d57-8f9bf22c7990</td>\n",
       "      <td>SGP16200004395</td>\n",
       "      <td>Female</td>\n",
       "      <td>0</td>\n",
       "      <td>0</td>\n",
       "      <td>0</td>\n",
       "      <td>0</td>\n",
       "      <td>0</td>\n",
       "      <td>0</td>\n",
       "      <td>0</td>\n",
       "      <td>...</td>\n",
       "      <td>0</td>\n",
       "      <td>0</td>\n",
       "      <td>0</td>\n",
       "      <td>0</td>\n",
       "      <td>0</td>\n",
       "      <td>0</td>\n",
       "      <td>0</td>\n",
       "      <td>0</td>\n",
       "      <td>0</td>\n",
       "      <td>32</td>\n",
       "    </tr>\n",
       "  </tbody>\n",
       "</table>\n",
       "<p>5 rows × 902 columns</p>\n",
       "</div>"
      ],
      "text/plain": [
       "                                 mm_uuid         ccs_uid  Gender  \\\n",
       "35  152a56c3-d253-4b00-b7fa-8114c399815b  SGP16200000312    Male   \n",
       "37  1cf455cf-1993-4000-8175-b128aec36937  SGP16200004196  Female   \n",
       "53  9c9553b3-b1e2-4400-9d9f-bebfb2b0702a  SGP16200004293    Male   \n",
       "54  ff7756d5-73d8-4e00-a738-ccdfbed7e3be  SGP16200004356    Male   \n",
       "76  92c354f6-a838-4f00-9d57-8f9bf22c7990  SGP16200004395  Female   \n",
       "\n",
       "    |Eyeota|Branded Data|EMEA|EMEA ShareThis|Arts and Entertainment|Humor  \\\n",
       "35                                                  0                       \n",
       "37                                                  0                       \n",
       "53                                                  0                       \n",
       "54                                                  0                       \n",
       "76                                                  0                       \n",
       "\n",
       "    |Eyeota|Branded Data|EMEA|EMEA ShareThis|Computers and Electronics  \\\n",
       "35                                                  0                    \n",
       "37                                                  0                    \n",
       "53                                                  0                    \n",
       "54                                                  0                    \n",
       "76                                                  0                    \n",
       "\n",
       "    |Eyeota|Branded Data|EMEA|EMEA ShareThis|Computers and Electronics|Software  \\\n",
       "35                                                  0                             \n",
       "37                                                  0                             \n",
       "53                                                  0                             \n",
       "54                                                  0                             \n",
       "76                                                  0                             \n",
       "\n",
       "    |Eyeota|Branded Data|EMEA|EMEA ShareThis|Computers and Electronics|Software|Open Source  \\\n",
       "35                                                  0                                         \n",
       "37                                                  0                                         \n",
       "53                                                  0                                         \n",
       "54                                                  0                                         \n",
       "76                                                  0                                         \n",
       "\n",
       "    |Eyeota|Branded Data|EMEA|EMEA ShareThis|Food and Drink|Food|Meat and Seafood  \\\n",
       "35                                                  0                               \n",
       "37                                                  0                               \n",
       "53                                                  0                               \n",
       "54                                                  0                               \n",
       "76                                                  0                               \n",
       "\n",
       "    |Eyeota|Branded Data|EMEA|EMEA ShareThis|Home and Garden  \\\n",
       "35                                                  0          \n",
       "37                                                  0          \n",
       "53                                                  0          \n",
       "54                                                  0          \n",
       "76                                                  0          \n",
       "\n",
       "    |Eyeota|Branded Data|EMEA|EMEA ShareThis|Home and Garden|Bed and Bath  \\\n",
       "35                                                  0                       \n",
       "37                                                  0                       \n",
       "53                                                  0                       \n",
       "54                                                  0                       \n",
       "76                                                  0                       \n",
       "\n",
       "       ...       \\\n",
       "35     ...        \n",
       "37     ...        \n",
       "53     ...        \n",
       "54     ...        \n",
       "76     ...        \n",
       "\n",
       "    |Eyeota|Seasonal|Sport Events|Football Matches|Champions League Fans  \\\n",
       "35                                                  0                      \n",
       "37                                                  0                      \n",
       "53                                                  0                      \n",
       "54                                                  0                      \n",
       "76                                                  0                      \n",
       "\n",
       "    |Eyeota|Seasonal|Sport Events|Football Matches|EURO 2016 France  \\\n",
       "35                                                  0                 \n",
       "37                                                  0                 \n",
       "53                                                  0                 \n",
       "54                                                  0                 \n",
       "76                                                  0                 \n",
       "\n",
       "    |Eyeota|Seasonal|Sport Events|Football Matches|EURO 2016 France|Qualifiers  \\\n",
       "35                                                  0                            \n",
       "37                                                  0                            \n",
       "53                                                  0                            \n",
       "54                                                  0                            \n",
       "76                                                  0                            \n",
       "\n",
       "    |Eyeota|Seasonal|Sport Events|Football Matches|FIFA World Cup 2018  \\\n",
       "35                                                  0                    \n",
       "37                                                  0                    \n",
       "53                                                  0                    \n",
       "54                                                  1                    \n",
       "76                                                  0                    \n",
       "\n",
       "    |Eyeota|Seasonal|Sport Events|NBA  \\\n",
       "35                                  0   \n",
       "37                                  0   \n",
       "53                                  0   \n",
       "54                                  0   \n",
       "76                                  0   \n",
       "\n",
       "    |Eyeota|Seasonal|Sport Events|Premier League Fans  \\\n",
       "35                                                  0   \n",
       "37                                                  0   \n",
       "53                                                  0   \n",
       "54                                                  0   \n",
       "76                                                  0   \n",
       "\n",
       "    |Eyeota|Seasonal|Sport Events|Rugby World Cup Fans  \\\n",
       "35                                                  0    \n",
       "37                                                  0    \n",
       "53                                                  0    \n",
       "54                                                  0    \n",
       "76                                                  0    \n",
       "\n",
       "    |Eyeota|Seasonal|Sport Events|Summer Olympics - Rio 2016  \\\n",
       "35                                                  0          \n",
       "37                                                  0          \n",
       "53                                                  0          \n",
       "54                                                  0          \n",
       "76                                                  0          \n",
       "\n",
       "    |Eyeota|Seasonal|Sport Events|Winter Olympics - Pyeongchang 2018  \\\n",
       "35                                                  0                  \n",
       "37                                                  0                  \n",
       "53                                                  0                  \n",
       "54                                                  0                  \n",
       "76                                                  0                  \n",
       "\n",
       "    segment_cnt  \n",
       "35          146  \n",
       "37           32  \n",
       "53           66  \n",
       "54          120  \n",
       "76           32  \n",
       "\n",
       "[5 rows x 902 columns]"
      ]
     },
     "execution_count": 76,
     "metadata": {},
     "output_type": "execute_result"
    }
   ],
   "source": [
    "data.head()"
   ]
  },
  {
   "cell_type": "markdown",
   "metadata": {},
   "source": [
    "### Explore Data with Declared Data"
   ]
  },
  {
   "cell_type": "code",
   "execution_count": 77,
   "metadata": {
    "collapsed": true
   },
   "outputs": [],
   "source": [
    "pop_segments = segment_popularity.sort_values(0, ascending=False)[1:].head(10).reset_index()\n",
    "pop_segments.columns = ['segment','cnt']\n",
    "select = list(pop_segments['segment'])"
   ]
  },
  {
   "cell_type": "code",
   "execution_count": 78,
   "metadata": {
    "scrolled": true
   },
   "outputs": [
    {
     "data": {
      "image/png": "[encoded data removed]",
      "text/plain": [
       "<matplotlib.figure.Figure at 0x1ef8bac77b8>"
      ]
     },
     "metadata": {},
     "output_type": "display_data"
    },
    {
     "data": {
      "image/png": "[encoded data removed]",
      "text/plain": [
       "<matplotlib.figure.Figure at 0x1ef8bac7908>"
      ]
     },
     "metadata": {},
     "output_type": "display_data"
    },
    {
     "data": {
      "image/png": "[encoded data removed]",
      "text/plain": [
       "<matplotlib.figure.Figure at 0x1ef8bb564a8>"
      ]
     },
     "metadata": {},
     "output_type": "display_data"
    },
    {
     "data": {
      "image/png": "[encoded data removed]",
      "text/plain": [
       "<matplotlib.figure.Figure at 0x1ef8bbfdd30>"
      ]
     },
     "metadata": {},
     "output_type": "display_data"
    },
    {
     "data": {
      "image/png": "[encoded data removed]",
      "text/plain": [
       "<matplotlib.figure.Figure at 0x1ef8a166908>"
      ]
     },
     "metadata": {},
     "output_type": "display_data"
    },
    {
     "data": {
      "image/png": "[encoded data removed]",
      "text/plain": [
       "<matplotlib.figure.Figure at 0x1ef89f64438>"
      ]
     },
     "metadata": {},
     "output_type": "display_data"
    },
    {
     "data": {
      "image/png": "[encoded data removed]",
      "text/plain": [
       "<matplotlib.figure.Figure at 0x1ef8b5407f0>"
      ]
     },
     "metadata": {},
     "output_type": "display_data"
    },
    {
     "data": {
      "image/png": "[encoded data removed]",
      "text/plain": [
       "<matplotlib.figure.Figure at 0x1ef8bca29e8>"
      ]
     },
     "metadata": {},
     "output_type": "display_data"
    },
    {
     "data": {
      "image/png": "[encoded data removed]",
      "text/plain": [
       "<matplotlib.figure.Figure at 0x1ef8bd2a400>"
      ]
     },
     "metadata": {},
     "output_type": "display_data"
    }
   ],
   "source": [
    "figs = {}\n",
    "axs={}\n",
    "\n",
    "for i in range(1,10):    \n",
    "    figs[i]=plt.figure()\n",
    "    axs[i] = sns.countplot(x=select[i], hue=\"Gender\", data=data)"
   ]
  },
  {
   "cell_type": "code",
   "execution_count": 79,
   "metadata": {
    "collapsed": true
   },
   "outputs": [],
   "source": [
    "def random():\n",
    "    random_segments = segment_popularity.sample(n=1).reset_index()\n",
    "    random_segments.columns = ['segment','cnt']\n",
    "    random = list(random_segments['segment'])\n",
    "    fig = plt.figure()\n",
    "    plt.title(random[0], fontsize=16, fontweight='bold')\n",
    "    sns.countplot(x=random[0], hue=\"Gender\", data=data)"
   ]
  },
  {
   "cell_type": "code",
   "execution_count": 80,
   "metadata": {},
   "outputs": [
    {
     "data": {
      "image/png": "[encoded data removed]",
      "text/plain": [
       "<matplotlib.figure.Figure at 0x1ef8bd89780>"
      ]
     },
     "metadata": {},
     "output_type": "display_data"
    }
   ],
   "source": [
    "random()"
   ]
  },
  {
   "cell_type": "code",
   "execution_count": 81,
   "metadata": {},
   "outputs": [
    {
     "data": {
      "text/plain": [
       "['|Eyeota|Branded Data|Global Bombora|B2C|Gender|Female',\n",
       " '|Eyeota|Branded Data|USA|US StatSocial|Legendary Entertainment|Demographics|Gender|Female',\n",
       " '|Eyeota|Demographic|Declared Gender|Female',\n",
       " '|Eyeota|Demographic|Inferred Gender|Female',\n",
       " '|Eyeota|Regional Taxonomies|Southeast Asia (SEA)|Demographic|Inferred Gender|Female',\n",
       " '|Eyeota|Branded Data|Global Bombora|B2C|Gender|Male',\n",
       " '|Eyeota|Demographic|Declared Gender|Male',\n",
       " '|Eyeota|Demographic|Inferred Gender|Male',\n",
       " '|Eyeota|Regional Taxonomies|Southeast Asia (SEA)|Demographic|Inferred Gender|Male']"
      ]
     },
     "execution_count": 81,
     "metadata": {},
     "output_type": "execute_result"
    }
   ],
   "source": [
    "gender_cols = [col for col in data.columns if 'male' in col]+[col for col in data.columns if 'Male' in col]\n",
    "gender_cols"
   ]
  },
  {
   "cell_type": "code",
   "execution_count": 82,
   "metadata": {
    "scrolled": false
   },
   "outputs": [
    {
     "data": {
      "image/png": "[encoded data removed]",
      "text/plain": [
       "<matplotlib.figure.Figure at 0x1ef8b9ead68>"
      ]
     },
     "metadata": {},
     "output_type": "display_data"
    },
    {
     "data": {
      "image/png": "[encoded data removed]",
      "text/plain": [
       "<matplotlib.figure.Figure at 0x1ef8cf60128>"
      ]
     },
     "metadata": {},
     "output_type": "display_data"
    },
    {
     "data": {
      "image/png": "[encoded data removed]",
      "text/plain": [
       "<matplotlib.figure.Figure at 0x1ef8d1cc630>"
      ]
     },
     "metadata": {},
     "output_type": "display_data"
    },
    {
     "data": {
      "image/png": "[encoded data removed]",
      "text/plain": [
       "<matplotlib.figure.Figure at 0x1ef8d253f60>"
      ]
     },
     "metadata": {},
     "output_type": "display_data"
    },
    {
     "data": {
      "image/png": "[encoded data removed]",
      "text/plain": [
       "<matplotlib.figure.Figure at 0x1ef8d2eb7b8>"
      ]
     },
     "metadata": {},
     "output_type": "display_data"
    },
    {
     "data": {
      "image/png": "[encoded data removed]",
      "text/plain": [
       "<matplotlib.figure.Figure at 0x1ef8d2eb6a0>"
      ]
     },
     "metadata": {},
     "output_type": "display_data"
    },
    {
     "data": {
      "image/png": "[encoded data removed]",
      "text/plain": [
       "<matplotlib.figure.Figure at 0x1ef8be1f6a0>"
      ]
     },
     "metadata": {},
     "output_type": "display_data"
    },
    {
     "data": {
      "image/png": "[encoded data removed]",
      "text/plain": [
       "<matplotlib.figure.Figure at 0x1ef8bdaf8d0>"
      ]
     },
     "metadata": {},
     "output_type": "display_data"
    }
   ],
   "source": [
    "figs = {}\n",
    "axs={}\n",
    "\n",
    "for i in range(1,9):    \n",
    "    figs[i]=plt.figure()\n",
    "    axs[i] = sns.countplot(x=gender_cols[i], hue=\"Gender\", data=data)"
   ]
  },
  {
   "cell_type": "markdown",
   "metadata": {
    "collapsed": true
   },
   "source": [
    "### Creating Models"
   ]
  },
  {
   "cell_type": "code",
   "execution_count": 83,
   "metadata": {
    "collapsed": true
   },
   "outputs": [],
   "source": [
    "data=data[data['Gender']!='Unknown']"
   ]
  },
  {
   "cell_type": "code",
   "execution_count": 84,
   "metadata": {
    "collapsed": true
   },
   "outputs": [],
   "source": [
    "data['Gender_1_0']=data['Gender']"
   ]
  },
  {
   "cell_type": "code",
   "execution_count": 85,
   "metadata": {
    "collapsed": true
   },
   "outputs": [],
   "source": [
    " d = {'Female': 1, 'Male': 0}"
   ]
  },
  {
   "cell_type": "code",
   "execution_count": 86,
   "metadata": {
    "collapsed": true,
    "scrolled": true
   },
   "outputs": [],
   "source": [
    "data['Gender_1_0']=data['Gender_1_0'].replace(d)"
   ]
  },
  {
   "cell_type": "markdown",
   "metadata": {},
   "source": [
    "### Correlation Analysis for Features"
   ]
  },
  {
   "cell_type": "code",
   "execution_count": 213,
   "metadata": {},
   "outputs": [],
   "source": [
    "corr = pd.DataFrame(data.corr()['Gender_1_0'])\n",
    "corr['abs'] = abs(pd.DataFrame(data.corr()['Gender_1_0']))"
   ]
  },
  {
   "cell_type": "code",
   "execution_count": 214,
   "metadata": {},
   "outputs": [],
   "source": [
    "corr = corr.reset_index()"
   ]
  },
  {
   "cell_type": "code",
   "execution_count": 247,
   "metadata": {},
   "outputs": [
    {
     "data": {
      "text/html": [
       "<div>\n",
       "<style>\n",
       "    .dataframe thead tr:only-child th {\n",
       "        text-align: right;\n",
       "    }\n",
       "\n",
       "    .dataframe thead th {\n",
       "        text-align: left;\n",
       "    }\n",
       "\n",
       "    .dataframe tbody tr th {\n",
       "        vertical-align: top;\n",
       "    }\n",
       "</style>\n",
       "<table border=\"1\" class=\"dataframe\">\n",
       "  <thead>\n",
       "    <tr style=\"text-align: right;\">\n",
       "      <th></th>\n",
       "      <th>Segment</th>\n",
       "      <th>Corr</th>\n",
       "      <th>Corr_Abs</th>\n",
       "    </tr>\n",
       "  </thead>\n",
       "  <tbody>\n",
       "    <tr>\n",
       "      <th>899</th>\n",
       "      <td>Gender_1_0</td>\n",
       "      <td>1.000000</td>\n",
       "      <td>1.000000</td>\n",
       "    </tr>\n",
       "    <tr>\n",
       "      <th>777</th>\n",
       "      <td>|Eyeota|Interest|Food Enthusiasts|Cocktails and Drinks</td>\n",
       "      <td>0.286143</td>\n",
       "      <td>0.286143</td>\n",
       "    </tr>\n",
       "    <tr>\n",
       "      <th>892</th>\n",
       "      <td>|Eyeota|Seasonal|Sport Events|Football Matches|FIFA World Cup 2018</td>\n",
       "      <td>-0.262948</td>\n",
       "      <td>0.262948</td>\n",
       "    </tr>\n",
       "    <tr>\n",
       "      <th>805</th>\n",
       "      <td>|Eyeota|Interest|Sports|Football</td>\n",
       "      <td>-0.262948</td>\n",
       "      <td>0.262948</td>\n",
       "    </tr>\n",
       "    <tr>\n",
       "      <th>531</th>\n",
       "      <td>|Eyeota|Branded Data|Global excluding US and EMEA ShareThis|Food and Drink|Beverages|Coffee and Tea</td>\n",
       "      <td>0.259608</td>\n",
       "      <td>0.259608</td>\n",
       "    </tr>\n",
       "    <tr>\n",
       "      <th>781</th>\n",
       "      <td>|Eyeota|Interest|Food Enthusiasts|Vegetarians and Vegans</td>\n",
       "      <td>0.249004</td>\n",
       "      <td>0.249004</td>\n",
       "    </tr>\n",
       "    <tr>\n",
       "      <th>711</th>\n",
       "      <td>|Eyeota|Intent|Shopping|CPG / FMCG|Grocery</td>\n",
       "      <td>0.247273</td>\n",
       "      <td>0.247273</td>\n",
       "    </tr>\n",
       "    <tr>\n",
       "      <th>857</th>\n",
       "      <td>|Eyeota|Regional Taxonomies|Southeast Asia (SEA)|Interest|Sports|Football</td>\n",
       "      <td>-0.246512</td>\n",
       "      <td>0.246512</td>\n",
       "    </tr>\n",
       "    <tr>\n",
       "      <th>778</th>\n",
       "      <td>|Eyeota|Interest|Food Enthusiasts|Cooking</td>\n",
       "      <td>0.240786</td>\n",
       "      <td>0.240786</td>\n",
       "    </tr>\n",
       "    <tr>\n",
       "      <th>710</th>\n",
       "      <td>|Eyeota|Intent|Shopping|CPG / FMCG</td>\n",
       "      <td>0.223172</td>\n",
       "      <td>0.223172</td>\n",
       "    </tr>\n",
       "  </tbody>\n",
       "</table>\n",
       "</div>"
      ],
      "text/plain": [
       "                                                                                                 Segment      Corr  Corr_Abs\n",
       "899                                                                                           Gender_1_0  1.000000  1.000000\n",
       "777                                               |Eyeota|Interest|Food Enthusiasts|Cocktails and Drinks  0.286143  0.286143\n",
       "892                                   |Eyeota|Seasonal|Sport Events|Football Matches|FIFA World Cup 2018 -0.262948  0.262948\n",
       "805                                                                     |Eyeota|Interest|Sports|Football -0.262948  0.262948\n",
       "531  |Eyeota|Branded Data|Global excluding US and EMEA ShareThis|Food and Drink|Beverages|Coffee and Tea  0.259608  0.259608\n",
       "781                                             |Eyeota|Interest|Food Enthusiasts|Vegetarians and Vegans  0.249004  0.249004\n",
       "711                                                           |Eyeota|Intent|Shopping|CPG / FMCG|Grocery  0.247273  0.247273\n",
       "857                            |Eyeota|Regional Taxonomies|Southeast Asia (SEA)|Interest|Sports|Football -0.246512  0.246512\n",
       "778                                                            |Eyeota|Interest|Food Enthusiasts|Cooking  0.240786  0.240786\n",
       "710                                                                   |Eyeota|Intent|Shopping|CPG / FMCG  0.223172  0.223172"
      ]
     },
     "execution_count": 247,
     "metadata": {},
     "output_type": "execute_result"
    }
   ],
   "source": [
    "pd.set_option('display.max_colwidth', 1000)\n",
    "corr.head(10)"
   ]
  },
  {
   "cell_type": "code",
   "execution_count": 215,
   "metadata": {},
   "outputs": [],
   "source": [
    "corr.columns = ['Segment','Corr','Corr_Abs']"
   ]
  },
  {
   "cell_type": "code",
   "execution_count": 216,
   "metadata": {
    "scrolled": true
   },
   "outputs": [],
   "source": [
    "corr = corr.sort_values('Corr_Abs',ascending=False)"
   ]
  },
  {
   "cell_type": "code",
   "execution_count": 217,
   "metadata": {},
   "outputs": [],
   "source": [
    "features = pd.DataFrame(corr.sort_values('Corr_Abs',ascending=False)['Segment'])"
   ]
  },
  {
   "cell_type": "markdown",
   "metadata": {},
   "source": [
    "### MODEL 1: Logistic Regression - Ranked Features by Correlation"
   ]
  },
  {
   "cell_type": "code",
   "execution_count": 233,
   "metadata": {
    "collapsed": true
   },
   "outputs": [],
   "source": [
    "data['Gender_1_0']=data['Gender']"
   ]
  },
  {
   "cell_type": "code",
   "execution_count": 234,
   "metadata": {
    "collapsed": true
   },
   "outputs": [],
   "source": [
    " d = {'Female': 1, 'Male': 0}"
   ]
  },
  {
   "cell_type": "code",
   "execution_count": 235,
   "metadata": {
    "collapsed": true
   },
   "outputs": [],
   "source": [
    "data['Gender_1_0']=data['Gender_1_0'].replace(d)"
   ]
  },
  {
   "cell_type": "code",
   "execution_count": 236,
   "metadata": {},
   "outputs": [
    {
     "data": {
      "text/plain": [
       "pandas.core.series.Series"
      ]
     },
     "execution_count": 236,
     "metadata": {},
     "output_type": "execute_result"
    }
   ],
   "source": [
    "type(data['Gender_1_0'])"
   ]
  },
  {
   "cell_type": "code",
   "execution_count": 237,
   "metadata": {},
   "outputs": [
    {
     "data": {
      "text/plain": [
       "1    77\n",
       "0    70\n",
       "Name: Gender_1_0, dtype: int64"
      ]
     },
     "execution_count": 237,
     "metadata": {},
     "output_type": "execute_result"
    }
   ],
   "source": [
    "data['Gender_1_0'].value_counts()"
   ]
  },
  {
   "cell_type": "code",
   "execution_count": 238,
   "metadata": {
    "scrolled": false
   },
   "outputs": [
    {
     "name": "stdout",
     "output_type": "stream",
     "text": [
      "CV AUC [ 0.67067308  0.65050167  0.64347826], Average AUC 0.654884336677815\n"
     ]
    }
   ],
   "source": [
    "from sklearn.linear_model import LogisticRegression\n",
    "from sklearn.model_selection import cross_val_score\n",
    "\n",
    "model_logistic = LogisticRegression(C=1e9)\n",
    "factors = features['Segment'][1:10]\n",
    "model_logistic.fit(data[factors], data['Gender_1_0'])\n",
    "scores = cross_val_score(model_logistic, data[factors], data['Gender_1_0'], scoring='roc_auc')\n",
    "print('CV AUC {}, Average AUC {}'.format(scores, scores.mean()))"
   ]
  },
  {
   "cell_type": "code",
   "execution_count": 239,
   "metadata": {
    "scrolled": true
   },
   "outputs": [],
   "source": [
    "l_n =[]\n",
    "l_auc =[]\n",
    "\n",
    "for n in range(2,900,5):\n",
    "    model_logistic = LogisticRegression(C=1e9)\n",
    "    factors = features['Segment'][1:n]\n",
    "    model_logistic.fit(data[factors], data['Gender_1_0'])\n",
    "    scores = cross_val_score(model_logistic, data[factors], data['Gender_1_0'], scoring='roc_auc')\n",
    "    l_n.append(n)\n",
    "    l_auc.append(scores.mean())\n"
   ]
  },
  {
   "cell_type": "code",
   "execution_count": 240,
   "metadata": {},
   "outputs": [
    {
     "data": {
      "text/html": [
       "<div>\n",
       "<style>\n",
       "    .dataframe thead tr:only-child th {\n",
       "        text-align: right;\n",
       "    }\n",
       "\n",
       "    .dataframe thead th {\n",
       "        text-align: left;\n",
       "    }\n",
       "\n",
       "    .dataframe tbody tr th {\n",
       "        vertical-align: top;\n",
       "    }\n",
       "</style>\n",
       "<table border=\"1\" class=\"dataframe\">\n",
       "  <thead>\n",
       "    <tr style=\"text-align: right;\">\n",
       "      <th></th>\n",
       "      <th>l_n</th>\n",
       "      <th>l_auc</th>\n",
       "    </tr>\n",
       "  </thead>\n",
       "  <tbody>\n",
       "    <tr>\n",
       "      <th>9</th>\n",
       "      <td>47</td>\n",
       "      <td>0.709437</td>\n",
       "    </tr>\n",
       "    <tr>\n",
       "      <th>3</th>\n",
       "      <td>17</td>\n",
       "      <td>0.705065</td>\n",
       "    </tr>\n",
       "    <tr>\n",
       "      <th>5</th>\n",
       "      <td>27</td>\n",
       "      <td>0.698467</td>\n",
       "    </tr>\n",
       "    <tr>\n",
       "      <th>6</th>\n",
       "      <td>32</td>\n",
       "      <td>0.698467</td>\n",
       "    </tr>\n",
       "    <tr>\n",
       "      <th>27</th>\n",
       "      <td>137</td>\n",
       "      <td>0.695588</td>\n",
       "    </tr>\n",
       "  </tbody>\n",
       "</table>\n",
       "</div>"
      ],
      "text/plain": [
       "    l_n     l_auc\n",
       "9    47  0.709437\n",
       "3    17  0.705065\n",
       "5    27  0.698467\n",
       "6    32  0.698467\n",
       "27  137  0.695588"
      ]
     },
     "execution_count": 240,
     "metadata": {},
     "output_type": "execute_result"
    }
   ],
   "source": [
    "output1_logistic = pd.DataFrame.from_dict(l_n)\n",
    "output2_logistic = pd.DataFrame.from_dict(l_auc)\n",
    "\n",
    "output1_logistic.columns=['l_n']\n",
    "output2_logistic.columns=['l_auc']\n",
    "output_logistic = output1_logistic.join(output2_logistic)\n",
    "output_logistic.sort_values(['l_auc'],ascending=False).head()"
   ]
  },
  {
   "cell_type": "code",
   "execution_count": 241,
   "metadata": {
    "scrolled": false
   },
   "outputs": [
    {
     "data": {
      "text/plain": [
       "<matplotlib.text.Text at 0x1ef8e826240>"
      ]
     },
     "execution_count": 241,
     "metadata": {},
     "output_type": "execute_result"
    },
    {
     "data": {
      "image/png": "[encoded data removed]",
      "text/plain": [
       "<matplotlib.figure.Figure at 0x1ef8e644828>"
      ]
     },
     "metadata": {},
     "output_type": "display_data"
    }
   ],
   "source": [
    "fig = plt.figure()\n",
    "plt.title('AUC based on Features Added?', fontsize=16, fontweight='bold')\n",
    "plt.plot(l_n,l_auc)\n",
    "plt.xlabel('No. Features Added')\n",
    "plt.ylabel('auc')"
   ]
  },
  {
   "cell_type": "markdown",
   "metadata": {},
   "source": [
    "### MODEL 2: Random Forest"
   ]
  },
  {
   "cell_type": "code",
   "execution_count": 207,
   "metadata": {},
   "outputs": [
    {
     "data": {
      "text/html": [
       "<div>\n",
       "<style>\n",
       "    .dataframe thead tr:only-child th {\n",
       "        text-align: right;\n",
       "    }\n",
       "\n",
       "    .dataframe thead th {\n",
       "        text-align: left;\n",
       "    }\n",
       "\n",
       "    .dataframe tbody tr th {\n",
       "        vertical-align: top;\n",
       "    }\n",
       "</style>\n",
       "<table border=\"1\" class=\"dataframe\">\n",
       "  <thead>\n",
       "    <tr style=\"text-align: right;\">\n",
       "      <th></th>\n",
       "      <th>ntrees</th>\n",
       "      <th>depth</th>\n",
       "      <th>auc</th>\n",
       "    </tr>\n",
       "  </thead>\n",
       "  <tbody>\n",
       "    <tr>\n",
       "      <th>56</th>\n",
       "      <td>121</td>\n",
       "      <td>3</td>\n",
       "      <td>0.639556</td>\n",
       "    </tr>\n",
       "    <tr>\n",
       "      <th>55</th>\n",
       "      <td>121</td>\n",
       "      <td>2</td>\n",
       "      <td>0.638543</td>\n",
       "    </tr>\n",
       "    <tr>\n",
       "      <th>37</th>\n",
       "      <td>81</td>\n",
       "      <td>2</td>\n",
       "      <td>0.635630</td>\n",
       "    </tr>\n",
       "    <tr>\n",
       "      <th>64</th>\n",
       "      <td>141</td>\n",
       "      <td>2</td>\n",
       "      <td>0.634293</td>\n",
       "    </tr>\n",
       "    <tr>\n",
       "      <th>65</th>\n",
       "      <td>141</td>\n",
       "      <td>3</td>\n",
       "      <td>0.631404</td>\n",
       "    </tr>\n",
       "  </tbody>\n",
       "</table>\n",
       "</div>"
      ],
      "text/plain": [
       "    ntrees  depth       auc\n",
       "56     121      3  0.639556\n",
       "55     121      2  0.638543\n",
       "37      81      2  0.635630\n",
       "64     141      2  0.634293\n",
       "65     141      3  0.631404"
      ]
     },
     "execution_count": 207,
     "metadata": {},
     "output_type": "execute_result"
    }
   ],
   "source": [
    "from sklearn.ensemble import RandomForestClassifier\n",
    "from sklearn.model_selection import cross_val_score\n",
    "\n",
    "t_ntrees = []\n",
    "t_depth =[]\n",
    "t_auc=[]\n",
    "X = data[data.columns[3:902]]\n",
    "y = data['Gender_1_0']\n",
    "\n",
    "for n_trees in range(1, 200, 20):\n",
    "    for depth in range(1, 10, 1):\n",
    "        model = RandomForestClassifier(n_estimators = n_trees, max_depth = depth, random_state=50)\n",
    "        scores = cross_val_score(model, X, y, scoring='roc_auc')\n",
    "        t_ntrees.append(n_trees)\n",
    "        t_depth.append(depth)\n",
    "        t_auc.append(scores.mean())\n",
    "\n",
    "output1 = pd.DataFrame.from_dict(t_ntrees)\n",
    "output2 = pd.DataFrame.from_dict(t_depth)\n",
    "output3 = pd.DataFrame.from_dict(t_auc)\n",
    "output1.columns=['ntrees']\n",
    "output2.columns=['depth']\n",
    "output3.columns=['auc']\n",
    "output = output1.join(output2).join(output3)\n",
    "output.sort_values(['auc'],ascending=False).head()"
   ]
  },
  {
   "cell_type": "markdown",
   "metadata": {},
   "source": [
    "#### Feature Importance"
   ]
  },
  {
   "cell_type": "code",
   "execution_count": 209,
   "metadata": {},
   "outputs": [
    {
     "name": "stdout",
     "output_type": "stream",
     "text": [
      "CV AUC [ 0.53525641  0.67558528  0.70782609], Average AUC 0.6395559271646228\n"
     ]
    }
   ],
   "source": [
    "model = RandomForestClassifier(n_estimators = 121, max_depth=3, random_state=50)\n",
    "X = data[data.columns[3:902]]\n",
    "y = data['Gender_1_0']\n",
    "model.fit(X, y)\n",
    "scores = cross_val_score(model, X, y, scoring='roc_auc')\n",
    "print('CV AUC {}, Average AUC {}'.format(scores, scores.mean()))"
   ]
  },
  {
   "cell_type": "code",
   "execution_count": 210,
   "metadata": {},
   "outputs": [
    {
     "data": {
      "text/html": [
       "<div>\n",
       "<style>\n",
       "    .dataframe thead tr:only-child th {\n",
       "        text-align: right;\n",
       "    }\n",
       "\n",
       "    .dataframe thead th {\n",
       "        text-align: left;\n",
       "    }\n",
       "\n",
       "    .dataframe tbody tr th {\n",
       "        vertical-align: top;\n",
       "    }\n",
       "</style>\n",
       "<table border=\"1\" class=\"dataframe\">\n",
       "  <thead>\n",
       "    <tr style=\"text-align: right;\">\n",
       "      <th></th>\n",
       "      <th>Features</th>\n",
       "      <th>Importance Score</th>\n",
       "    </tr>\n",
       "  </thead>\n",
       "  <tbody>\n",
       "    <tr>\n",
       "      <th>805</th>\n",
       "      <td>|Eyeota|Interest|Sports|Football</td>\n",
       "      <td>0.029144</td>\n",
       "    </tr>\n",
       "    <tr>\n",
       "      <th>898</th>\n",
       "      <td>segment_cnt</td>\n",
       "      <td>0.020877</td>\n",
       "    </tr>\n",
       "    <tr>\n",
       "      <th>777</th>\n",
       "      <td>|Eyeota|Interest|Food Enthusiasts|Cocktails an...</td>\n",
       "      <td>0.019256</td>\n",
       "    </tr>\n",
       "    <tr>\n",
       "      <th>781</th>\n",
       "      <td>|Eyeota|Interest|Food Enthusiasts|Vegetarians ...</td>\n",
       "      <td>0.015991</td>\n",
       "    </tr>\n",
       "    <tr>\n",
       "      <th>857</th>\n",
       "      <td>|Eyeota|Regional Taxonomies|Southeast Asia (SE...</td>\n",
       "      <td>0.015597</td>\n",
       "    </tr>\n",
       "  </tbody>\n",
       "</table>\n",
       "</div>"
      ],
      "text/plain": [
       "                                              Features  Importance Score\n",
       "805                   |Eyeota|Interest|Sports|Football          0.029144\n",
       "898                                        segment_cnt          0.020877\n",
       "777  |Eyeota|Interest|Food Enthusiasts|Cocktails an...          0.019256\n",
       "781  |Eyeota|Interest|Food Enthusiasts|Vegetarians ...          0.015991\n",
       "857  |Eyeota|Regional Taxonomies|Southeast Asia (SE...          0.015597"
      ]
     },
     "execution_count": 210,
     "metadata": {},
     "output_type": "execute_result"
    }
   ],
   "source": [
    "features = X.columns\n",
    "feature_importances = model.feature_importances_\n",
    "\n",
    "features_df = pd.DataFrame({'Features': features, 'Importance Score': feature_importances})\n",
    "features_df.sort_values('Importance Score', inplace=True, ascending=False)\n",
    "\n",
    "features_df.head()"
   ]
  },
  {
   "cell_type": "markdown",
   "metadata": {},
   "source": [
    "### MODEL 3: Logistic Regression - Ranked Features from Random Forest"
   ]
  },
  {
   "cell_type": "code",
   "execution_count": 227,
   "metadata": {
    "collapsed": true
   },
   "outputs": [],
   "source": [
    "data['Gender_1_0']=data['Gender']\n",
    "d = {'Female': 1, 'Male': 0}\n",
    "data['Gender_1_0']=data['Gender_1_0'].replace(d)    "
   ]
  },
  {
   "cell_type": "code",
   "execution_count": 228,
   "metadata": {},
   "outputs": [
    {
     "data": {
      "text/html": [
       "<div>\n",
       "<style>\n",
       "    .dataframe thead tr:only-child th {\n",
       "        text-align: right;\n",
       "    }\n",
       "\n",
       "    .dataframe thead th {\n",
       "        text-align: left;\n",
       "    }\n",
       "\n",
       "    .dataframe tbody tr th {\n",
       "        vertical-align: top;\n",
       "    }\n",
       "</style>\n",
       "<table border=\"1\" class=\"dataframe\">\n",
       "  <thead>\n",
       "    <tr style=\"text-align: right;\">\n",
       "      <th></th>\n",
       "      <th>l_n</th>\n",
       "      <th>l_auc</th>\n",
       "    </tr>\n",
       "  </thead>\n",
       "  <tbody>\n",
       "    <tr>\n",
       "      <th>9</th>\n",
       "      <td>46</td>\n",
       "      <td>0.763189</td>\n",
       "    </tr>\n",
       "    <tr>\n",
       "      <th>10</th>\n",
       "      <td>51</td>\n",
       "      <td>0.747230</td>\n",
       "    </tr>\n",
       "    <tr>\n",
       "      <th>8</th>\n",
       "      <td>41</td>\n",
       "      <td>0.743830</td>\n",
       "    </tr>\n",
       "    <tr>\n",
       "      <th>18</th>\n",
       "      <td>91</td>\n",
       "      <td>0.742703</td>\n",
       "    </tr>\n",
       "    <tr>\n",
       "      <th>7</th>\n",
       "      <td>36</td>\n",
       "      <td>0.738993</td>\n",
       "    </tr>\n",
       "  </tbody>\n",
       "</table>\n",
       "</div>"
      ],
      "text/plain": [
       "    l_n     l_auc\n",
       "9    46  0.763189\n",
       "10   51  0.747230\n",
       "8    41  0.743830\n",
       "18   91  0.742703\n",
       "7    36  0.738993"
      ]
     },
     "execution_count": 228,
     "metadata": {},
     "output_type": "execute_result"
    }
   ],
   "source": [
    "l_n =[]\n",
    "l_auc =[]\n",
    "\n",
    "for n in range(1,899,5):\n",
    "    model_logistic = LogisticRegression(C=1e9, random_state=50)\n",
    "    factors = features_df['Features'][0:n]\n",
    "    model_logistic.fit(data[factors], data['Gender_1_0'])\n",
    "    scores = cross_val_score(model_logistic, data[factors], data['Gender_1_0'], scoring='roc_auc')\n",
    "    l_n.append(n)\n",
    "    l_auc.append(scores.mean())\n",
    "    \n",
    "output1_logistic = pd.DataFrame.from_dict(l_n)\n",
    "output2_logistic = pd.DataFrame.from_dict(l_auc)\n",
    "\n",
    "output1_logistic.columns=['l_n']\n",
    "output2_logistic.columns=['l_auc']\n",
    "output_logistic = output1_logistic.join(output2_logistic)\n",
    "output_logistic.sort_values(['l_auc'],ascending=False).head()"
   ]
  },
  {
   "cell_type": "code",
   "execution_count": 230,
   "metadata": {},
   "outputs": [
    {
     "data": {
      "text/plain": [
       "<matplotlib.text.Text at 0x1ef8e6a6ba8>"
      ]
     },
     "execution_count": 230,
     "metadata": {},
     "output_type": "execute_result"
    },
    {
     "data": {
      "image/png": "[encoded data removed]",
      "text/plain": [
       "<matplotlib.figure.Figure at 0x1ef8e66e1d0>"
      ]
     },
     "metadata": {},
     "output_type": "display_data"
    }
   ],
   "source": [
    "fig = plt.figure()\n",
    "plt.title('AUC based on Features Added?', fontsize=16, fontweight='bold')\n",
    "plt.plot(l_n,l_auc)\n",
    "plt.xlabel('No. Features Added')\n",
    "plt.ylabel('auc')"
   ]
  },
  {
   "cell_type": "code",
   "execution_count": null,
   "metadata": {
    "collapsed": true
   },
   "outputs": [],
   "source": []
  }
 ],
 "metadata": {
  "kernelspec": {
   "display_name": "Python 3",
   "language": "python",
   "name": "python3"
  },
  "language_info": {
   "codemirror_mode": {
    "name": "ipython",
    "version": 3
   },
   "file_extension": ".py",
   "mimetype": "text/x-python",
   "name": "python",
   "nbconvert_exporter": "python",
   "pygments_lexer": "ipython3",
   "version": "3.6.1"
  }
 },
 "nbformat": 4,
 "nbformat_minor": 2
}
